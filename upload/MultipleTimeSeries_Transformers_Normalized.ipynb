{
 "cells": [
  {
   "cell_type": "code",
   "execution_count": 1,
   "metadata": {
    "id": "1fESObdFU5Xd"
   },
   "outputs": [],
   "source": [
    "import torch\n",
    "from torch import nn\n",
    "import pandas as pd\n",
    "import matplotlib.pyplot as plt\n",
    "import numpy as np\n",
    "import math\n",
    "import torch.nn.functional as F\n",
    "from torch.utils.data import Dataset, DataLoader\n",
    "from sklearn.preprocessing import MinMaxScaler\n",
    "from math import sqrt\n",
    "from tqdm import tqdm\n",
    "import statistics"
   ]
  },
  {
   "cell_type": "code",
   "execution_count": 2,
   "metadata": {
    "id": "UM3AxNE9VHvX"
   },
   "outputs": [],
   "source": [
    "df=pd.read_csv(\"D:\\Transformer_thesis\\Dataset\\V_228.csv\",header=None)"
   ]
  },
  {
   "cell_type": "code",
   "execution_count": 3,
   "metadata": {
    "id": "RtSHGDixElx2"
   },
   "outputs": [],
   "source": [
    "#!cat /proc/meminfo"
   ]
  },
  {
   "cell_type": "code",
   "execution_count": 4,
   "metadata": {
    "id": "tX-Y_xXkJbcy"
   },
   "outputs": [],
   "source": [
    "#df=df.iloc[:,:100]"
   ]
  },
  {
   "cell_type": "code",
   "execution_count": 5,
   "metadata": {
    "colab": {
     "base_uri": "https://localhost:8080/"
    },
    "id": "0M19phoPWEmB",
    "outputId": "53795b14-b666-4b38-9382-dc45d13e9bfc"
   },
   "outputs": [
    {
     "data": {
      "text/plain": [
       "(12672, 228)"
      ]
     },
     "execution_count": 5,
     "metadata": {},
     "output_type": "execute_result"
    }
   ],
   "source": [
    "df.shape"
   ]
  },
  {
   "cell_type": "code",
   "execution_count": 6,
   "metadata": {
    "id": "HLoDEekNWKol"
   },
   "outputs": [],
   "source": [
    "data=df.values"
   ]
  },
  {
   "cell_type": "code",
   "execution_count": 7,
   "metadata": {
    "id": "j3gHHguLQCHw"
   },
   "outputs": [],
   "source": [
    "#data=df.values"
   ]
  },
  {
   "cell_type": "code",
   "execution_count": 8,
   "metadata": {
    "id": "C4iMcV7mOPJZ"
   },
   "outputs": [],
   "source": [
    "#df=df.iloc[:,:2]"
   ]
  },
  {
   "cell_type": "code",
   "execution_count": 9,
   "metadata": {
    "id": "Rbooeerj7iEb"
   },
   "outputs": [],
   "source": [
    "#data.shape"
   ]
  },
  {
   "cell_type": "code",
   "execution_count": 10,
   "metadata": {
    "id": "_NCRjQI2WXSL"
   },
   "outputs": [],
   "source": [
    "def train_test_split(data,window_size):\n",
    "\n",
    "   test_size=1440\n",
    "   validation_size=1440\n",
    "   train_data=data[:-test_size - validation_size]\n",
    "\n",
    "   validation_data=data[-test_size - validation_size-window_size:-test_size]\n",
    "    \n",
    "   \n",
    "   test_data=data[-test_size-window_size:]\n",
    "   return train_data,validation_data,test_data "
   ]
  },
  {
   "cell_type": "code",
   "execution_count": 11,
   "metadata": {
    "id": "QAgegxvmWZmV"
   },
   "outputs": [],
   "source": [
    "def create_train_sequences(data,window_size,forecast_horizon):\n",
    "  #X=[]\n",
    "  #y=[]\n",
    "  X_shape=[(len(data)-window_size-forecast_horizon + 1),window_size]\n",
    "\n",
    "  y_shape=[(len(data)-window_size-forecast_horizon + 1),forecast_horizon]\n",
    "  X=np.zeros(X_shape)\n",
    "  y=np.zeros(y_shape)\n",
    "  \n",
    "  for i in range(len(data)-window_size- forecast_horizon + 1):\n",
    "        _x = data[i:(i+window_size)]\n",
    "        #_y = data[i+window_size]\n",
    "        _y=data[i + window_size:i + window_size + forecast_horizon]\n",
    "        X[i,:]=_x\n",
    "        y[i,:]=_y\n",
    "\n",
    "\n",
    "  return X,y"
   ]
  },
  {
   "cell_type": "code",
   "execution_count": 12,
   "metadata": {
    "id": "VpJ6naogo_w4"
   },
   "outputs": [],
   "source": [
    "def create_test_sequences(data, window_size, forecast_horizon):\n",
    "\n",
    "    num_samples = len(data) // (window_size + forecast_horizon)\n",
    "    X_shape = (num_samples, window_size)\n",
    "    y_shape = (num_samples, forecast_horizon)\n",
    "    X = np.zeros(X_shape)\n",
    "    y = np.zeros(y_shape)\n",
    "\n",
    "    for i in range(num_samples):\n",
    "        start_index = i * (window_size + forecast_horizon)\n",
    "        end_index_x = start_index + window_size\n",
    "        end_index_y = end_index_x + forecast_horizon\n",
    "\n",
    "        _x = data[start_index:end_index_x]\n",
    "        _y = data[end_index_x:end_index_y]\n",
    "\n",
    "        X[i, :] = _x\n",
    "        y[i, :] = _y\n",
    "\n",
    "    return X, y"
   ]
  },
  {
   "cell_type": "code",
   "execution_count": 13,
   "metadata": {
    "colab": {
     "base_uri": "https://localhost:8080/",
     "height": 88
    },
    "id": "PNH0JaIM_bjS",
    "outputId": "f30d7837-6683-43bb-a9fe-e99bbb791c8a"
   },
   "outputs": [
    {
     "data": {
      "text/plain": [
       "'\\ndef create_test_sequences(data, window_size, forecast_horizon):\\n\\n    X_shape=[(len(data)-window_size- forecast_horizon + 1),window_size]\\n    y_shape=[(len(data)-window_size- forecast_horizon + 1),forecast_horizon]\\n    X=np.zeros(X_shape)\\n    y=np.zeros(y_shape)\\n    step_size = window_size + forecast_horizon\\n\\n    for i in range(0, len(data) - window_size - forecast_horizon + 1, step_size):\\n        _x = data[i:(i + window_size)]\\n        _y = data[i + window_size:i + window_size + forecast_horizon]\\n        X[i,:]=_x\\n        y[i,:]=_y\\n\\n    return X, y\\n'"
      ]
     },
     "execution_count": 13,
     "metadata": {},
     "output_type": "execute_result"
    }
   ],
   "source": [
    "\"\"\"\n",
    "def create_test_sequences(data, window_size, forecast_horizon):\n",
    "\n",
    "    X_shape=[(len(data)-window_size- forecast_horizon + 1),window_size]\n",
    "    y_shape=[(len(data)-window_size- forecast_horizon + 1),forecast_horizon]\n",
    "    X=np.zeros(X_shape)\n",
    "    y=np.zeros(y_shape)\n",
    "    step_size = window_size + forecast_horizon\n",
    "\n",
    "    for i in range(0, len(data) - window_size - forecast_horizon + 1, step_size):\n",
    "        _x = data[i:(i + window_size)]\n",
    "        _y = data[i + window_size:i + window_size + forecast_horizon]\n",
    "        X[i,:]=_x\n",
    "        y[i,:]=_y\n",
    "\n",
    "    return X, y\n",
    "\"\"\""
   ]
  },
  {
   "cell_type": "code",
   "execution_count": 14,
   "metadata": {
    "id": "jiPBuOe5Wcff"
   },
   "outputs": [],
   "source": [
    "sc=MinMaxScaler()\n",
    "#df_scaled=sc.fit_transform(data)"
   ]
  },
  {
   "cell_type": "code",
   "execution_count": 15,
   "metadata": {
    "id": "-xj0RcSHWegX"
   },
   "outputs": [],
   "source": [
    "#df_scaled.shape"
   ]
  },
  {
   "cell_type": "code",
   "execution_count": 16,
   "metadata": {
    "id": "KTJcvInWWlYN"
   },
   "outputs": [],
   "source": [
    "sequence_length=12\n",
    "horizon=9\n",
    "batch_size=32\n",
    "input_size=1\n",
    "hidden_size=64\n",
    "output_size=1\n",
    "ff_hiddensize=64\n",
    "mask_flag=None\n",
    "attn_head=8\n",
    "start_dec_token_len=6\n",
    "test_size=1440\n",
    "validation_size=1440"
   ]
  },
  {
   "cell_type": "code",
   "execution_count": 17,
   "metadata": {
    "colab": {
     "base_uri": "https://localhost:8080/"
    },
    "id": "hsM8griF4xTg",
    "outputId": "9500fd6d-1587-4a3a-a62c-fda7b71feead"
   },
   "outputs": [],
   "source": [
    "#df.iloc[:,0]"
   ]
  },
  {
   "cell_type": "code",
   "execution_count": 18,
   "metadata": {
    "id": "9zbB2tpXWnlZ"
   },
   "outputs": [],
   "source": [
    "\n",
    "train_seq_x=np.zeros([df.shape[1], (len(df)-validation_size-test_size-sequence_length-horizon+1) , sequence_length ])\n",
    "train_seq_y=np.zeros([df.shape[1], (len(df)-validation_size-test_size-sequence_length-horizon+1) , horizon])\n",
    "valid_seq_x=np.zeros([df.shape[1], validation_size-horizon+1  , sequence_length ])\n",
    "valid_seq_y=np.zeros([df.shape[1], validation_size-horizon+1 , horizon ])\n",
    "test_seq_x=np.zeros([df.shape[1], test_size // (sequence_length + horizon)+1, sequence_length ])\n",
    "test_seq_y=np.zeros([df.shape[1],  test_size // (sequence_length + horizon) +1, horizon])\n",
    "for i in range(df.shape[1]):\n",
    "  train_data,validation_data,test_data = train_test_split(df.iloc[:,i],sequence_length)\n",
    "  \n",
    "  \n",
    "  df_train_scaled=sc.fit_transform(train_data.values.reshape(-1,1))\n",
    "  df_validation_scaled=sc.fit_transform(validation_data.values.reshape(-1,1))\n",
    "  df_test_scaled=sc.fit_transform(test_data.values.reshape(-1,1))\n",
    "\n",
    "  train_x,train_y=create_train_sequences(df_train_scaled.reshape(-1),sequence_length,horizon)\n",
    "  train_seq_x[i,:,:]=train_x\n",
    "  train_seq_y[i,:,:]=train_y\n",
    "  #train_seq_x.append(train_x)\n",
    "  #train_seq_y.append(train_y)\n",
    "  \n",
    "  valid_x,valid_y=create_train_sequences(df_validation_scaled.reshape(-1),sequence_length,horizon)\n",
    "  valid_seq_x[i,:,:]=valid_x\n",
    "  valid_seq_y[i,:,:]=valid_y\n",
    "  #valid_seq_x.append(valid_x)\n",
    "  #valid_seq_y.append(valid_y)\n",
    "\n",
    "  test_x,test_y=create_test_sequences(df_test_scaled.reshape(-1),sequence_length,horizon)\n",
    "  test_seq_x[i,:,:]=test_x\n",
    "  test_seq_y[i,:,:]=test_y\n",
    "  #test_seq_x.append(test_x)\n",
    "  #test_seq_y.append(test_y)\n"
   ]
  },
  {
   "cell_type": "code",
   "execution_count": 19,
   "metadata": {
    "id": "3uSzaKpCOXmo"
   },
   "outputs": [],
   "source": [
    "X_train=torch.tensor(train_seq_x,dtype=torch.float32)\n",
    "y_train=torch.tensor(train_seq_y,dtype=torch.float32)\n",
    "X_valid=torch.tensor(valid_seq_x,dtype=torch.float32)\n",
    "y_valid=torch.tensor(valid_seq_y,dtype=torch.float32)\n",
    "X_test=torch.tensor(test_seq_x,dtype=torch.float32)\n",
    "y_test=torch.tensor(test_seq_y,dtype=torch.float32)"
   ]
  },
  {
   "cell_type": "code",
   "execution_count": 20,
   "metadata": {
    "colab": {
     "base_uri": "https://localhost:8080/"
    },
    "id": "h5ZPoQjXCDvz",
    "outputId": "d9705a23-eb93-47c4-a8ef-fccaca8dbfcc"
   },
   "outputs": [
    {
     "data": {
      "text/plain": [
       "torch.Size([228, 9772, 9])"
      ]
     },
     "execution_count": 20,
     "metadata": {},
     "output_type": "execute_result"
    }
   ],
   "source": [
    "y_train.shape"
   ]
  },
  {
   "cell_type": "code",
   "execution_count": 21,
   "metadata": {
    "colab": {
     "base_uri": "https://localhost:8080/",
     "height": 53
    },
    "id": "aS7NfdeAwOqZ",
    "outputId": "0091bd7d-417b-4672-c45d-cb2a89d37443"
   },
   "outputs": [
    {
     "data": {
      "text/plain": [
       "'\\nX_test=X_test.unsqueeze(-1)\\nX_test=X_test.view(-1,X_test.size(2),X_test.size(3))\\n\\ny_test=y_test.unsqueeze(-1)\\ny_test=y_test.view(-1,y_test.size(2),y_test.size(3))\\n'"
      ]
     },
     "execution_count": 21,
     "metadata": {},
     "output_type": "execute_result"
    }
   ],
   "source": [
    "X_train=X_train.unsqueeze(-1)\n",
    "X_train=X_train.view(-1,X_train.size(2),X_train.size(3))\n",
    "\n",
    "y_train=y_train.unsqueeze(-1)\n",
    "y_train=y_train.view(-1,y_train.size(2),y_train.size(3))\n",
    "\n",
    "X_valid=X_valid.unsqueeze(-1)\n",
    "X_valid=X_valid.view(-1,X_valid.size(2),X_valid.size(3))\n",
    "\n",
    "y_valid=y_valid.unsqueeze(-1)\n",
    "y_valid=y_valid.view(-1,y_valid.size(2),y_valid.size(3))\n",
    "\n",
    "X_test=X_test.unsqueeze(-1)\n",
    "y_test=y_test.unsqueeze(-1)\n",
    "\"\"\"\n",
    "X_test=X_test.unsqueeze(-1)\n",
    "X_test=X_test.view(-1,X_test.size(2),X_test.size(3))\n",
    "\n",
    "y_test=y_test.unsqueeze(-1)\n",
    "y_test=y_test.view(-1,y_test.size(2),y_test.size(3))\n",
    "\"\"\""
   ]
  },
  {
   "cell_type": "code",
   "execution_count": 22,
   "metadata": {
    "id": "lVjZ-zrcLewd"
   },
   "outputs": [],
   "source": [
    "class TimeseriesDataset(Dataset):\n",
    "  def __init__(self,X,y):\n",
    "    self.X=X\n",
    "    self.y=y\n",
    "  def __len__(self):\n",
    "    return len(self.X)\n",
    "  def __getitem__(self,idx):\n",
    "    return self.X[idx],self.y[idx]"
   ]
  },
  {
   "cell_type": "code",
   "execution_count": 23,
   "metadata": {
    "id": "mPMbcoQ1PGrm"
   },
   "outputs": [],
   "source": [
    "train_dataset=TimeseriesDataset(X_train,y_train)\n",
    "valid_dataset=TimeseriesDataset(X_valid,y_valid)\n",
    "test_dataset=TimeseriesDataset(X_test,y_test)"
   ]
  },
  {
   "cell_type": "code",
   "execution_count": 24,
   "metadata": {
    "id": "xEsyYaYpPJWd"
   },
   "outputs": [],
   "source": [
    "train_loader=DataLoader(train_dataset,batch_size,drop_last=True)\n",
    "valid_loader=DataLoader(valid_dataset,batch_size,drop_last=True)\n",
    "test_loader=DataLoader(test_dataset,batch_size,drop_last=True)"
   ]
  },
  {
   "cell_type": "code",
   "execution_count": 25,
   "metadata": {
    "id": "1BdJIZImOjLl"
   },
   "outputs": [],
   "source": [
    "class InputEmbedding(nn.Module):\n",
    "  def __init__(self,input_size,hidden_size):\n",
    "      super().__init__()\n",
    "      self.input_size=input_size\n",
    "      self.hidden_size=hidden_size\n",
    "      self.conv1d=nn.Conv1d(in_channels=self.input_size,out_channels=self.hidden_size,padding=1,kernel_size=3,bias=False)\n",
    "  def forward(self,x):\n",
    "      embedded_inp=self.conv1d(x.permute(0,2,1))\n",
    "      return embedded_inp.transpose(1,2)\n"
   ]
  },
  {
   "cell_type": "code",
   "execution_count": 26,
   "metadata": {
    "id": "DnnOQkO7OmtX"
   },
   "outputs": [],
   "source": [
    "class PositionalEmbedding(nn.Module):\n",
    "    def __init__(self, d_model, max_len=5000):\n",
    "        super().__init__()\n",
    "        pe = torch.zeros(max_len, d_model).float()\n",
    "        pe.require_grad = False\n",
    "        position = torch.arange(0, max_len).float().unsqueeze(1)\n",
    "        div_term = (torch.arange(0, d_model, 2).float()* -(math.log(10000.0) / d_model)).exp()\n",
    "        pe[:, 0::2] = torch.sin(position * div_term)\n",
    "        pe[:, 1::2] = torch.cos(position * div_term)\n",
    "        pe = pe.unsqueeze(0)\n",
    "        self.register_buffer('pe', pe)\n",
    "    def forward(self,x):\n",
    "        return self.pe[:,:x.size(1)]"
   ]
  },
  {
   "cell_type": "code",
   "execution_count": 27,
   "metadata": {
    "id": "Vc7rG2iSOqlz"
   },
   "outputs": [],
   "source": [
    "class AttentionLayer(nn.Module):\n",
    "  def __init__(self,attn_head,hidden_size):\n",
    "    super().__init__()\n",
    "\n",
    "    self.attn_head=attn_head\n",
    "    self.hidden_size=hidden_size\n",
    "    self.dropout = nn.Dropout(0.1)\n",
    "    self.linear=nn.Linear(hidden_size,hidden_size)\n",
    "\n",
    "    self.queries=nn.Linear(hidden_size,hidden_size)\n",
    "    self.keys=nn.Linear(hidden_size,hidden_size)\n",
    "    self.values=nn.Linear(hidden_size,hidden_size)\n",
    "\n",
    "  def forward(self, queries,keys,values,attention_mask):\n",
    "    b,l,d=queries.shape\n",
    "    b,s,d=keys.shape\n",
    "\n",
    "    #Linear projection and creation of multiple heads\n",
    "    queries=self.queries(queries).view(b,l,self.attn_head,-1)\n",
    "    keys=self.keys(keys).view(b,s,self.attn_head,-1)\n",
    "    values=self.values(values).view(b,s,self.attn_head,-1)\n",
    "\n",
    "    b,l,h,d=queries.shape\n",
    "    b,s,h,d=keys.shape\n",
    "\n",
    "    #Calculate attention score\n",
    "    attention_score=torch.einsum(\"blhd,bshd->bhls\",queries,keys)\n",
    "    if attention_mask == True:\n",
    "       mask_shape = [b,1,l,l]\n",
    "       mask=torch.triu(torch.ones(mask_shape,dtype=torch.bool),diagonal=1)\n",
    "       attention_score.masked_fill_(mask,-np.inf)\n",
    "    attention_score_softmax=self.dropout(torch.softmax(attention_score/sqrt(d),dim=-1))\n",
    "    final_value=torch.einsum(\"bhls,bshd->blhd\",attention_score_softmax,values)\n",
    "\n",
    "    weighted_attn_val=self.linear(final_value.contiguous().view(b,l,-1))\n",
    "\n",
    "    return weighted_attn_val"
   ]
  },
  {
   "cell_type": "code",
   "execution_count": 28,
   "metadata": {
    "id": "9ixwqm1oOtXQ"
   },
   "outputs": [],
   "source": [
    "class Encoder(nn.Module):\n",
    "  def __init__(self,attention,hidden_size,output_size,ff_hiddensize,sequence_length):\n",
    "    super().__init__()\n",
    "    self.attention=attention\n",
    "    self.conv1=nn.Conv1d(in_channels=hidden_size,out_channels=ff_hiddensize,kernel_size=1)\n",
    "    self.conv2=nn.Conv1d(in_channels=ff_hiddensize,out_channels=hidden_size,kernel_size=1)\n",
    "    self.linear=nn.Linear(ff_hiddensize,hidden_size)\n",
    "    self.norm1=nn.LayerNorm(normalized_shape=(sequence_length,hidden_size))\n",
    "    #self.norm1=nn.LayerNorm(hidden_size)\n",
    "    self.activation=F.relu\n",
    "    self.dropout=nn.Dropout(0.1)\n",
    "  def forward(self,x):\n",
    "    #self.norm2=nn.LayerNorm(hidden_size)\n",
    "    attention_x=self.attention(x,x,x,attention_mask=False)\n",
    "    #add and normalize\n",
    "    new_x = x + self.dropout(attention_x)\n",
    "    res_x=x=self.norm1(new_x)\n",
    "    ##Feed forward NN:\n",
    "    out=self.conv1(res_x.permute(0,2,1))\n",
    "    out=self.activation(out)\n",
    "    out=self.dropout(self.conv2(out).transpose(-1, 1))\n",
    "\n",
    "    ##Add and normalize:\n",
    "    new_out=out+res_x\n",
    "    norm_out=self.norm1(new_out)\n",
    "    return norm_out"
   ]
  },
  {
   "cell_type": "code",
   "execution_count": 29,
   "metadata": {
    "id": "defFCswFOwsC"
   },
   "outputs": [],
   "source": [
    "class Decoder(nn.Module):\n",
    "  def __init__(self,attention,hidden_size,output_size,ff_hiddensize,sequence_length):\n",
    "    super().__init__()\n",
    "    self.attention=attention\n",
    "    #print(f\"decoder output size: {output_size}\")\n",
    "    self.conv1=nn.Conv1d(in_channels=hidden_size,out_channels=ff_hiddensize,kernel_size=1)\n",
    "    self.conv2=nn.Conv1d(in_channels=ff_hiddensize,out_channels=hidden_size,kernel_size=1)\n",
    "    self.linear1=nn.Linear(hidden_size,ff_hiddensize)\n",
    "    self.linear2=nn.Linear(ff_hiddensize,hidden_size)\n",
    "    self.linear3=nn.Linear(hidden_size,output_size)\n",
    "    self.dropout=nn.Dropout(0.1)\n",
    "    self.norm1=nn.LayerNorm(hidden_size)\n",
    "    self.norm2=nn.LayerNorm(hidden_size)\n",
    "    self.norm3=nn.LayerNorm(hidden_size)\n",
    "    self.activation=F.relu\n",
    "  def forward(self,dec_inp,enc_out):\n",
    "    #calculate self attention by passing dec_inp as Queries,keys and values\n",
    "    self_attn=self.attention(dec_inp,dec_inp,dec_inp,attention_mask=True)\n",
    "    #add residual connection and normalize\n",
    "    residual_add=self_attn+dec_inp\n",
    "    new_dec_x=self.norm1(residual_add)\n",
    "\n",
    "    # encoder-decoder attention. Pass key and value as encoder output and queries are output of 1st attention\n",
    "    enc_dec_atten=self.attention(new_dec_x,enc_out,enc_out,attention_mask=False)\n",
    "    ## add and normalize\n",
    "    new_x=enc_dec_atten+self_attn\n",
    "    norm_x=self.norm2(new_x)\n",
    "\n",
    "    #FFN\n",
    "    out=self.conv1(norm_x.permute(0,2,1))\n",
    "    out=self.activation(out)\n",
    "    out=self.dropout(self.conv2(out).transpose(-1, 1))\n",
    "\n",
    "    #add and normalize\n",
    "    new_x=out+norm_x\n",
    "    out=self.norm3(new_x)\n",
    "\n",
    "\n",
    "    #Linear projection\n",
    "    pred=self.linear3(out)\n",
    "\n",
    "    return pred\n"
   ]
  },
  {
   "cell_type": "code",
   "execution_count": 30,
   "metadata": {
    "id": "jnI2WldAO0ci"
   },
   "outputs": [],
   "source": [
    "class TransformerModel(nn.Module):\n",
    "  def __init__(self,input_size,hidden_size,output_size,ff_hiddensize,mask_flag,attn_head,sequence_length):\n",
    "      super().__init__()\n",
    "      self.input_size=input_size\n",
    "      self.hidden_size=hidden_size\n",
    "      self.output_size=output_size\n",
    "      self.ff_hidden_size=hidden_size\n",
    "      self.mask_flag=mask_flag\n",
    "      self.attn_head=attn_head\n",
    "      self.sequence_length=sequence_length\n",
    "      self.embedding=InputEmbedding(self.input_size,self.hidden_size)\n",
    "      self.positional_embedding=PositionalEmbedding(self.hidden_size)\n",
    "      #self.encoder=  Encoder( AttentionLayer(self.attn_head,hidden_size),self.hidden_size,self.output_size,self.ff_hidden_size,sequence_length)\n",
    "      self.encoders = nn.ModuleList([Encoder(AttentionLayer(self.attn_head, hidden_size), hidden_size, output_size, ff_hiddensize, sequence_length)\n",
    "                                        for _ in range(2)])\n",
    "      self.decoder=Decoder( AttentionLayer(self.attn_head,hidden_size),self.hidden_size,self.output_size,self.ff_hidden_size,sequence_length )\n",
    "  def forward(self,x,y):\n",
    "\n",
    "      #dec inp:\n",
    "      #input is shifted right and concatenated with 1st time step embedding set as zero\n",
    "      #decoder_input = torch.cat([torch.zeros_like(y[:, :1, :]), y[:, :-1, :]], dim=1)\n",
    "      #print(f\"x shape: {x[:, -start_dec_token_len:, :].shape}, y shape: {y[:, -horizon:, :].shape}\")\n",
    "      #print(f\"x shape: {x.shape}, y shape: {y.shape}\")\n",
    "      #decoder_input = torch.cat((x[:, -start_dec_token_len:, :], torch.zeros_like(y[:, -horizon:, :])), dim=1)\n",
    "      #decoder_input = torch.cat((x[:, :,-start_dec_token_len ,:], torch.zeros_like(y[:, :,-horizon:, :])), dim=1)\n",
    "      #print(f\"decoder_input shape: {decoder_input.shape}\")\n",
    "\n",
    "      decoder_input=torch.zeros_like(y[:, -horizon:, :])\n",
    "\n",
    "      #encoder\n",
    "      inp_embed=self.embedding(x)\n",
    "      pos_embed=self.positional_embedding(x)\n",
    "      enc_out=inp_embed + pos_embed\n",
    "\n",
    "      for encoder in self.encoders:\n",
    "\n",
    "          enc_out=encoder(enc_out)\n",
    "\n",
    "      #decoder\n",
    "      inp_embed=self.embedding(decoder_input)\n",
    "      pos_embed=self.positional_embedding(decoder_input)\n",
    "      y_embed= inp_embed + pos_embed\n",
    "      #print(f\"y passed to decoder shape: {y.shape}\")\n",
    "      out=self.decoder(y_embed,enc_out)\n",
    "      return out\n"
   ]
  },
  {
   "cell_type": "code",
   "execution_count": 31,
   "metadata": {
    "id": "-KlFfL9wO3bN"
   },
   "outputs": [],
   "source": [
    "model=TransformerModel(input_size,hidden_size,output_size,ff_hiddensize,mask_flag,attn_head,sequence_length)"
   ]
  },
  {
   "cell_type": "code",
   "execution_count": 32,
   "metadata": {
    "id": "PlgwBTAcO5NG"
   },
   "outputs": [],
   "source": [
    "loss_fun=nn.MSELoss()\n",
    "optimizer=torch.optim.Adam(model.parameters(),lr=0.0001)\n",
    "epochs=10"
   ]
  },
  {
   "cell_type": "code",
   "execution_count": 33,
   "metadata": {
    "colab": {
     "base_uri": "https://localhost:8080/"
    },
    "id": "kuAyRTueO7LB",
    "outputId": "8b61ebe5-d2dd-4c3e-dc7d-8d5e1bd9ce58",
    "scrolled": true
   },
   "outputs": [
    {
     "name": "stderr",
     "output_type": "stream",
     "text": [
      " 10%|█         | 1/10 [48:16<7:14:26, 2896.30s/it]"
     ]
    },
    {
     "name": "stdout",
     "output_type": "stream",
     "text": [
      "epoch: 0 train loss:0.004319163970649242 valid loss:0.06525246798992157 \n"
     ]
    },
    {
     "name": "stderr",
     "output_type": "stream",
     "text": [
      "100%|██████████| 10/10 [13:58:29<00:00, 5030.93s/it] \n"
     ]
    }
   ],
   "source": [
    "for epoch in tqdm(range(epochs)):\n",
    "        model.train()\n",
    "        for batch_idx, (X,y) in enumerate(train_loader):\n",
    "\n",
    "            pred=model(X,y)\n",
    "            pred=pred[:,-horizon:,:]\n",
    "            optimizer.zero_grad()\n",
    "            loss=loss_fun(pred,y)\n",
    "            loss.backward()\n",
    "            optimizer.step()\n",
    "        model.eval()\n",
    "        with torch.no_grad():\n",
    "          for batch_idx, (X,y) in enumerate(valid_loader):\n",
    "              pred=model(X,y)\n",
    "              pred=pred[:,-horizon:,:]\n",
    "              valid_loss=loss_fun(pred,y)\n",
    "        if epoch%10==0:\n",
    "            print(f\"epoch: {epoch} train loss:{loss} valid loss:{valid_loss} \")"
   ]
  },
  {
   "cell_type": "code",
   "execution_count": 34,
   "metadata": {
    "colab": {
     "base_uri": "https://localhost:8080/"
    },
    "id": "qdCjLVZqbsye",
    "outputId": "4c298a59-6cb0-4e60-baa6-6e94c2c74a43"
   },
   "outputs": [],
   "source": [
    "#from google.colab import drive\n",
    "#drive.mount('/content/drive')"
   ]
  },
  {
   "cell_type": "code",
   "execution_count": 35,
   "metadata": {
    "id": "J8NvGxk0irH1"
   },
   "outputs": [],
   "source": [
    "import os\n",
    "plot_dir = 'D:\\Transformer_thesis\\Plots_normalized'\n",
    "if not os.path.exists(plot_dir):\n",
    "    os.makedirs(plot_dir)"
   ]
  },
  {
   "cell_type": "code",
   "execution_count": 36,
   "metadata": {
    "id": "tzuURam_SN5O"
   },
   "outputs": [],
   "source": [
    "output=[]\n",
    "ground_truth=[]\n",
    "pred_series=[]\n",
    "truth_series=[]\n",
    "loss=[]\n",
    "pred_total=[]\n",
    "y_total=[]\n",
    "\n",
    "\n",
    "for i in range(X_test.size(0)):\n",
    "  curent_X_test=X_test[i,:,:,:]\n",
    "  current_y_test=y_test[i,:,:,:]\n",
    "  pred=model(curent_X_test,current_y_test)\n",
    "  pred=pred[:,-horizon:,:]\n",
    "  pred=pred.reshape(-1,1).detach().numpy()\n",
    "  current_y_test=current_y_test.reshape(-1,1).detach().numpy()\n",
    "  pred_raw=sc.inverse_transform(pred)\n",
    "  current_y_test_raw=sc.inverse_transform(current_y_test)\n",
    "  loss.append(loss_fun(torch.tensor(pred_raw),torch.tensor(current_y_test_raw)))\n",
    "\n",
    "\n",
    "  #print(current_y_test[:300])\n",
    "\n",
    "  plt.figure(figsize=(10, 6))\n",
    "  plt.plot(current_y_test, label='Ground Truth')\n",
    "  plt.plot(pred, label='Predicted')\n",
    "  plt.title(f'Time Series {i+1}: Ground Truth vs Predicted Values')\n",
    "  plt.xlabel('Time')\n",
    "  plt.ylabel('Value')\n",
    "  plt.legend()\n",
    "  plt.grid(True)\n",
    "  #plt.show()\n",
    "  plt.savefig(os.path.join(plot_dir, f'Time_Series_{i+1}_plot.png'))\n",
    "  plt.close()\n",
    "\n"
   ]
  },
  {
   "cell_type": "code",
   "execution_count": 37,
   "metadata": {
    "colab": {
     "base_uri": "https://localhost:8080/"
    },
    "id": "0eMqA3VhR8FJ",
    "outputId": "9fd42ca5-6a1c-4512-b053-f6372e917762"
   },
   "outputs": [
    {
     "data": {
      "text/plain": [
       "[tensor(100.9811),\n",
       " tensor(47.0540),\n",
       " tensor(42.4106),\n",
       " tensor(45.9516),\n",
       " tensor(31.8356),\n",
       " tensor(81.1272),\n",
       " tensor(74.9239),\n",
       " tensor(53.3848),\n",
       " tensor(62.6366),\n",
       " tensor(114.4560),\n",
       " tensor(69.6370),\n",
       " tensor(56.1983),\n",
       " tensor(100.2060),\n",
       " tensor(95.9073),\n",
       " tensor(46.3132),\n",
       " tensor(54.9618),\n",
       " tensor(29.1658),\n",
       " tensor(35.8324),\n",
       " tensor(49.5850),\n",
       " tensor(19.5330),\n",
       " tensor(36.5482),\n",
       " tensor(59.4051),\n",
       " tensor(11.7335),\n",
       " tensor(22.7648),\n",
       " tensor(37.8847),\n",
       " tensor(13.0399),\n",
       " tensor(13.2701),\n",
       " tensor(22.7528),\n",
       " tensor(104.3569),\n",
       " tensor(88.2900),\n",
       " tensor(95.6302),\n",
       " tensor(10.9721),\n",
       " tensor(25.4630),\n",
       " tensor(9.0362),\n",
       " tensor(69.0477),\n",
       " tensor(24.4501),\n",
       " tensor(62.7636),\n",
       " tensor(30.1102),\n",
       " tensor(43.9841),\n",
       " tensor(62.7789),\n",
       " tensor(37.5257),\n",
       " tensor(41.9982),\n",
       " tensor(51.6942),\n",
       " tensor(29.5545),\n",
       " tensor(28.5600),\n",
       " tensor(58.6200),\n",
       " tensor(21.2755),\n",
       " tensor(9.8575),\n",
       " tensor(16.6730),\n",
       " tensor(7.0470),\n",
       " tensor(40.1249),\n",
       " tensor(30.2751),\n",
       " tensor(49.4874),\n",
       " tensor(30.2095),\n",
       " tensor(15.9247),\n",
       " tensor(50.5828),\n",
       " tensor(21.3940),\n",
       " tensor(41.3083),\n",
       " tensor(66.4678),\n",
       " tensor(77.4031),\n",
       " tensor(71.2173),\n",
       " tensor(49.7205),\n",
       " tensor(39.7821),\n",
       " tensor(76.5699),\n",
       " tensor(15.9247),\n",
       " tensor(32.7463),\n",
       " tensor(66.6245),\n",
       " tensor(34.0015),\n",
       " tensor(12.6614),\n",
       " tensor(85.8434),\n",
       " tensor(18.6484),\n",
       " tensor(43.2374),\n",
       " tensor(23.1652),\n",
       " tensor(43.6043),\n",
       " tensor(19.0234),\n",
       " tensor(54.0336),\n",
       " tensor(34.5630),\n",
       " tensor(44.1787),\n",
       " tensor(61.7885),\n",
       " tensor(21.7662),\n",
       " tensor(29.3527),\n",
       " tensor(39.8546),\n",
       " tensor(62.8644),\n",
       " tensor(28.6644),\n",
       " tensor(31.0560),\n",
       " tensor(45.6304),\n",
       " tensor(70.0435),\n",
       " tensor(24.5303),\n",
       " tensor(64.8712),\n",
       " tensor(26.9850),\n",
       " tensor(26.4771),\n",
       " tensor(86.2311),\n",
       " tensor(30.4896),\n",
       " tensor(23.0655),\n",
       " tensor(38.8968),\n",
       " tensor(37.7011),\n",
       " tensor(34.6766),\n",
       " tensor(66.2922),\n",
       " tensor(24.1126),\n",
       " tensor(33.7028),\n",
       " tensor(22.8718),\n",
       " tensor(28.8579),\n",
       " tensor(45.1216),\n",
       " tensor(38.0726),\n",
       " tensor(44.6528),\n",
       " tensor(33.7245),\n",
       " tensor(81.9270),\n",
       " tensor(36.7961),\n",
       " tensor(28.6254),\n",
       " tensor(54.0382),\n",
       " tensor(18.8455),\n",
       " tensor(70.7547),\n",
       " tensor(53.1785),\n",
       " tensor(53.2373),\n",
       " tensor(73.5076),\n",
       " tensor(28.9099),\n",
       " tensor(59.0421),\n",
       " tensor(62.8216),\n",
       " tensor(67.2687),\n",
       " tensor(33.6458),\n",
       " tensor(56.4003),\n",
       " tensor(69.5269),\n",
       " tensor(67.4725),\n",
       " tensor(27.6423),\n",
       " tensor(30.5786),\n",
       " tensor(71.9548),\n",
       " tensor(119.2599),\n",
       " tensor(42.0427),\n",
       " tensor(73.5981),\n",
       " tensor(66.0404),\n",
       " tensor(29.1169),\n",
       " tensor(28.0517),\n",
       " tensor(46.8350),\n",
       " tensor(45.6280),\n",
       " tensor(46.8005),\n",
       " tensor(13.3310),\n",
       " tensor(59.3858),\n",
       " tensor(55.9294),\n",
       " tensor(22.7970),\n",
       " tensor(20.0974),\n",
       " tensor(30.7685),\n",
       " tensor(30.5229),\n",
       " tensor(10.4352),\n",
       " tensor(44.3227),\n",
       " tensor(38.6423),\n",
       " tensor(71.6854),\n",
       " tensor(12.4330),\n",
       " tensor(65.8767),\n",
       " tensor(42.1753),\n",
       " tensor(35.8065),\n",
       " tensor(32.9325),\n",
       " tensor(18.0838),\n",
       " tensor(27.3937),\n",
       " tensor(45.1715),\n",
       " tensor(29.4487),\n",
       " tensor(28.3084),\n",
       " tensor(45.4475),\n",
       " tensor(14.4859),\n",
       " tensor(32.2888),\n",
       " tensor(72.2877),\n",
       " tensor(38.5292),\n",
       " tensor(26.1118),\n",
       " tensor(35.7480),\n",
       " tensor(30.8088),\n",
       " tensor(39.8110),\n",
       " tensor(20.1844),\n",
       " tensor(21.9155),\n",
       " tensor(51.3881),\n",
       " tensor(13.2805),\n",
       " tensor(29.9058),\n",
       " tensor(33.1667),\n",
       " tensor(83.8951),\n",
       " tensor(25.4001),\n",
       " tensor(13.1244),\n",
       " tensor(34.6358),\n",
       " tensor(40.7445),\n",
       " tensor(45.5966),\n",
       " tensor(34.0707),\n",
       " tensor(44.7539),\n",
       " tensor(52.5970),\n",
       " tensor(33.7645),\n",
       " tensor(14.6621),\n",
       " tensor(33.3186),\n",
       " tensor(25.9222),\n",
       " tensor(33.2040),\n",
       " tensor(53.0618),\n",
       " tensor(28.5159),\n",
       " tensor(54.1561),\n",
       " tensor(30.1276),\n",
       " tensor(21.7176),\n",
       " tensor(71.0964),\n",
       " tensor(22.5794),\n",
       " tensor(39.9418),\n",
       " tensor(9.5766),\n",
       " tensor(37.2853),\n",
       " tensor(46.0899),\n",
       " tensor(27.8823),\n",
       " tensor(62.5342),\n",
       " tensor(58.0997),\n",
       " tensor(35.4519),\n",
       " tensor(25.6893),\n",
       " tensor(52.9979),\n",
       " tensor(20.1646),\n",
       " tensor(31.0684),\n",
       " tensor(29.3172),\n",
       " tensor(41.8230),\n",
       " tensor(36.8890),\n",
       " tensor(48.3728),\n",
       " tensor(62.2684),\n",
       " tensor(34.2974),\n",
       " tensor(14.3273),\n",
       " tensor(50.1113),\n",
       " tensor(39.4862),\n",
       " tensor(27.3199),\n",
       " tensor(49.4091),\n",
       " tensor(16.6111),\n",
       " tensor(30.3230),\n",
       " tensor(72.6423),\n",
       " tensor(10.4871),\n",
       " tensor(76.8019),\n",
       " tensor(62.7929),\n",
       " tensor(62.3261),\n",
       " tensor(70.4153),\n",
       " tensor(40.4334),\n",
       " tensor(25.0419),\n",
       " tensor(33.2737),\n",
       " tensor(22.1836),\n",
       " tensor(40.6209)]"
      ]
     },
     "execution_count": 37,
     "metadata": {},
     "output_type": "execute_result"
    }
   ],
   "source": [
    "loss"
   ]
  },
  {
   "cell_type": "code",
   "execution_count": 38,
   "metadata": {
    "colab": {
     "base_uri": "https://localhost:8080/"
    },
    "id": "ERfYLYNK6Ya8",
    "outputId": "1036e1e0-c1d2-4dcb-8414-810650d4e4e3"
   },
   "outputs": [
    {
     "data": {
      "text/plain": [
       "tensor(42.5264)"
      ]
     },
     "execution_count": 38,
     "metadata": {},
     "output_type": "execute_result"
    }
   ],
   "source": [
    "loss_val=torch.stack(loss,dim=0)\n",
    "mean_loss=torch.mean(loss_val)\n",
    "mean_loss"
   ]
  },
  {
   "cell_type": "code",
   "execution_count": 39,
   "metadata": {
    "colab": {
     "base_uri": "https://localhost:8080/",
     "height": 542
    },
    "id": "XAshzh2wSXSQ",
    "outputId": "644b87bc-1305-473d-8235-43ced36f8d66"
   },
   "outputs": [
    {
     "data": {
      "image/png": "[encoded data removed]",
      "text/plain": [
       "<Figure size 720x432 with 1 Axes>"
      ]
     },
     "metadata": {
      "needs_background": "light"
     },
     "output_type": "display_data"
    }
   ],
   "source": [
    "plt.figure(figsize=(10, 6))\n",
    "plt.plot(loss, label=\"Loss\")\n",
    "\n",
    "\n",
    "\n",
    "plt.xlabel('Series')\n",
    "plt.ylabel('Loss')\n",
    "plt.legend()\n",
    "plt.grid(True)\n",
    "plt.show()\n"
   ]
  },
  {
   "cell_type": "code",
   "execution_count": 40,
   "metadata": {
    "id": "QE_rrOVFWXjm",
    "outputId": "1e95fb0e-c4b0-41d3-f7c6-405f9f4b119c"
   },
   "outputs": [
    {
     "data": {
      "text/plain": [
       "'\\noutput=[]\\nground_truth=[]\\npred_series=[]\\ntruth_series=[]\\nloss=[]\\npred_total=[]\\ny_total=[]\\n\\n\\nfor i in range(X_test.size(0)):\\n  curent_X_test=X_test[i,:,:,:]\\n  current_y_test=y_test[i,:,:,:]\\n  pred=model(curent_X_test,current_y_test)\\n  pred=pred[:,-horizon:,:]\\n  pred=pred.reshape(-1,1).detach().numpy()\\n  current_y_test=current_y_test.reshape(-1,1).detach().numpy()\\n\\n  loss.append(loss_fun(torch.tensor(pred),torch.tensor(current_y_test)))\\n  \"\"\\n  plt.figure(figsize=(10, 6))\\n  plt.plot(current_y_test, label=\\'Ground Truth\\')\\n  plt.plot(pred, label=\\'Predicted\\')\\n  plt.title(f\\'Time Series {i+1}: Ground Truth vs Predicted Values\\')\\n  plt.xlabel(\\'Time\\')\\n  plt.ylabel(\\'Value\\')\\n  plt.legend()\\n  plt.grid(True)\\n'"
      ]
     },
     "execution_count": 40,
     "metadata": {},
     "output_type": "execute_result"
    }
   ],
   "source": [
    "\"\"\"\n",
    "output=[]\n",
    "ground_truth=[]\n",
    "pred_series=[]\n",
    "truth_series=[]\n",
    "loss=[]\n",
    "pred_total=[]\n",
    "y_total=[]\n",
    "\n",
    "\n",
    "for i in range(X_test.size(0)):\n",
    "  curent_X_test=X_test[i,:,:,:]\n",
    "  current_y_test=y_test[i,:,:,:]\n",
    "  pred=model(curent_X_test,current_y_test)\n",
    "  pred=pred[:,-horizon:,:]\n",
    "  pred=pred.reshape(-1,1).detach().numpy()\n",
    "  current_y_test=current_y_test.reshape(-1,1).detach().numpy()\n",
    "\n",
    "  loss.append(loss_fun(torch.tensor(pred),torch.tensor(current_y_test)))\n",
    "  \"\"\n",
    "  plt.figure(figsize=(10, 6))\n",
    "  plt.plot(current_y_test, label='Ground Truth')\n",
    "  plt.plot(pred, label='Predicted')\n",
    "  plt.title(f'Time Series {i+1}: Ground Truth vs Predicted Values')\n",
    "  plt.xlabel('Time')\n",
    "  plt.ylabel('Value')\n",
    "  plt.legend()\n",
    "  plt.grid(True)\n",
    "\"\"\""
   ]
  },
  {
   "cell_type": "code",
   "execution_count": null,
   "metadata": {
    "id": "54HD5sDJEb3W"
   },
   "outputs": [],
   "source": []
  },
  {
   "cell_type": "code",
   "execution_count": null,
   "metadata": {
    "id": "3uTFIPGoG0cl"
   },
   "outputs": [],
   "source": []
  },
  {
   "cell_type": "code",
   "execution_count": null,
   "metadata": {
    "id": "R2XE2X1EHo35"
   },
   "outputs": [],
   "source": []
  },
  {
   "cell_type": "code",
   "execution_count": null,
   "metadata": {
    "id": "C48OZuiIIVzG"
   },
   "outputs": [],
   "source": []
  },
  {
   "cell_type": "code",
   "execution_count": null,
   "metadata": {
    "id": "9GDUWGDSKLji"
   },
   "outputs": [],
   "source": []
  },
  {
   "cell_type": "code",
   "execution_count": null,
   "metadata": {
    "id": "6wnTTdtOKnMp"
   },
   "outputs": [],
   "source": []
  },
  {
   "cell_type": "code",
   "execution_count": 41,
   "metadata": {
    "id": "4KSaCeCEoTpw",
    "outputId": "b8ed2197-7ffd-4514-9bbb-994cdc23d475"
   },
   "outputs": [
    {
     "data": {
      "text/plain": [
       "[tensor(100.9811),\n",
       " tensor(47.0540),\n",
       " tensor(42.4106),\n",
       " tensor(45.9516),\n",
       " tensor(31.8356),\n",
       " tensor(81.1272),\n",
       " tensor(74.9239),\n",
       " tensor(53.3848),\n",
       " tensor(62.6366),\n",
       " tensor(114.4560),\n",
       " tensor(69.6370),\n",
       " tensor(56.1983),\n",
       " tensor(100.2060),\n",
       " tensor(95.9073),\n",
       " tensor(46.3132),\n",
       " tensor(54.9618),\n",
       " tensor(29.1658),\n",
       " tensor(35.8324),\n",
       " tensor(49.5850),\n",
       " tensor(19.5330),\n",
       " tensor(36.5482),\n",
       " tensor(59.4051),\n",
       " tensor(11.7335),\n",
       " tensor(22.7648),\n",
       " tensor(37.8847),\n",
       " tensor(13.0399),\n",
       " tensor(13.2701),\n",
       " tensor(22.7528),\n",
       " tensor(104.3569),\n",
       " tensor(88.2900),\n",
       " tensor(95.6302),\n",
       " tensor(10.9721),\n",
       " tensor(25.4630),\n",
       " tensor(9.0362),\n",
       " tensor(69.0477),\n",
       " tensor(24.4501),\n",
       " tensor(62.7636),\n",
       " tensor(30.1102),\n",
       " tensor(43.9841),\n",
       " tensor(62.7789),\n",
       " tensor(37.5257),\n",
       " tensor(41.9982),\n",
       " tensor(51.6942),\n",
       " tensor(29.5545),\n",
       " tensor(28.5600),\n",
       " tensor(58.6200),\n",
       " tensor(21.2755),\n",
       " tensor(9.8575),\n",
       " tensor(16.6730),\n",
       " tensor(7.0470),\n",
       " tensor(40.1249),\n",
       " tensor(30.2751),\n",
       " tensor(49.4874),\n",
       " tensor(30.2095),\n",
       " tensor(15.9247),\n",
       " tensor(50.5828),\n",
       " tensor(21.3940),\n",
       " tensor(41.3083),\n",
       " tensor(66.4678),\n",
       " tensor(77.4031),\n",
       " tensor(71.2173),\n",
       " tensor(49.7205),\n",
       " tensor(39.7821),\n",
       " tensor(76.5699),\n",
       " tensor(15.9247),\n",
       " tensor(32.7463),\n",
       " tensor(66.6245),\n",
       " tensor(34.0015),\n",
       " tensor(12.6614),\n",
       " tensor(85.8434),\n",
       " tensor(18.6484),\n",
       " tensor(43.2374),\n",
       " tensor(23.1652),\n",
       " tensor(43.6043),\n",
       " tensor(19.0234),\n",
       " tensor(54.0336),\n",
       " tensor(34.5630),\n",
       " tensor(44.1787),\n",
       " tensor(61.7885),\n",
       " tensor(21.7662),\n",
       " tensor(29.3527),\n",
       " tensor(39.8546),\n",
       " tensor(62.8644),\n",
       " tensor(28.6644),\n",
       " tensor(31.0560),\n",
       " tensor(45.6304),\n",
       " tensor(70.0435),\n",
       " tensor(24.5303),\n",
       " tensor(64.8712),\n",
       " tensor(26.9850),\n",
       " tensor(26.4771),\n",
       " tensor(86.2311),\n",
       " tensor(30.4896),\n",
       " tensor(23.0655),\n",
       " tensor(38.8968),\n",
       " tensor(37.7011),\n",
       " tensor(34.6766),\n",
       " tensor(66.2922),\n",
       " tensor(24.1126),\n",
       " tensor(33.7028),\n",
       " tensor(22.8718),\n",
       " tensor(28.8579),\n",
       " tensor(45.1216),\n",
       " tensor(38.0726),\n",
       " tensor(44.6528),\n",
       " tensor(33.7245),\n",
       " tensor(81.9270),\n",
       " tensor(36.7961),\n",
       " tensor(28.6254),\n",
       " tensor(54.0382),\n",
       " tensor(18.8455),\n",
       " tensor(70.7547),\n",
       " tensor(53.1785),\n",
       " tensor(53.2373),\n",
       " tensor(73.5076),\n",
       " tensor(28.9099),\n",
       " tensor(59.0421),\n",
       " tensor(62.8216),\n",
       " tensor(67.2687),\n",
       " tensor(33.6458),\n",
       " tensor(56.4003),\n",
       " tensor(69.5269),\n",
       " tensor(67.4725),\n",
       " tensor(27.6423),\n",
       " tensor(30.5786),\n",
       " tensor(71.9548),\n",
       " tensor(119.2599),\n",
       " tensor(42.0427),\n",
       " tensor(73.5981),\n",
       " tensor(66.0404),\n",
       " tensor(29.1169),\n",
       " tensor(28.0517),\n",
       " tensor(46.8350),\n",
       " tensor(45.6280),\n",
       " tensor(46.8005),\n",
       " tensor(13.3310),\n",
       " tensor(59.3858),\n",
       " tensor(55.9294),\n",
       " tensor(22.7970),\n",
       " tensor(20.0974),\n",
       " tensor(30.7685),\n",
       " tensor(30.5229),\n",
       " tensor(10.4352),\n",
       " tensor(44.3227),\n",
       " tensor(38.6423),\n",
       " tensor(71.6854),\n",
       " tensor(12.4330),\n",
       " tensor(65.8767),\n",
       " tensor(42.1753),\n",
       " tensor(35.8065),\n",
       " tensor(32.9325),\n",
       " tensor(18.0838),\n",
       " tensor(27.3937),\n",
       " tensor(45.1715),\n",
       " tensor(29.4487),\n",
       " tensor(28.3084),\n",
       " tensor(45.4475),\n",
       " tensor(14.4859),\n",
       " tensor(32.2888),\n",
       " tensor(72.2877),\n",
       " tensor(38.5292),\n",
       " tensor(26.1118),\n",
       " tensor(35.7480),\n",
       " tensor(30.8088),\n",
       " tensor(39.8110),\n",
       " tensor(20.1844),\n",
       " tensor(21.9155),\n",
       " tensor(51.3881),\n",
       " tensor(13.2805),\n",
       " tensor(29.9058),\n",
       " tensor(33.1667),\n",
       " tensor(83.8951),\n",
       " tensor(25.4001),\n",
       " tensor(13.1244),\n",
       " tensor(34.6358),\n",
       " tensor(40.7445),\n",
       " tensor(45.5966),\n",
       " tensor(34.0707),\n",
       " tensor(44.7539),\n",
       " tensor(52.5970),\n",
       " tensor(33.7645),\n",
       " tensor(14.6621),\n",
       " tensor(33.3186),\n",
       " tensor(25.9222),\n",
       " tensor(33.2040),\n",
       " tensor(53.0618),\n",
       " tensor(28.5159),\n",
       " tensor(54.1561),\n",
       " tensor(30.1276),\n",
       " tensor(21.7176),\n",
       " tensor(71.0964),\n",
       " tensor(22.5794),\n",
       " tensor(39.9418),\n",
       " tensor(9.5766),\n",
       " tensor(37.2853),\n",
       " tensor(46.0899),\n",
       " tensor(27.8823),\n",
       " tensor(62.5342),\n",
       " tensor(58.0997),\n",
       " tensor(35.4519),\n",
       " tensor(25.6893),\n",
       " tensor(52.9979),\n",
       " tensor(20.1646),\n",
       " tensor(31.0684),\n",
       " tensor(29.3172),\n",
       " tensor(41.8230),\n",
       " tensor(36.8890),\n",
       " tensor(48.3728),\n",
       " tensor(62.2684),\n",
       " tensor(34.2974),\n",
       " tensor(14.3273),\n",
       " tensor(50.1113),\n",
       " tensor(39.4862),\n",
       " tensor(27.3199),\n",
       " tensor(49.4091),\n",
       " tensor(16.6111),\n",
       " tensor(30.3230),\n",
       " tensor(72.6423),\n",
       " tensor(10.4871),\n",
       " tensor(76.8019),\n",
       " tensor(62.7929),\n",
       " tensor(62.3261),\n",
       " tensor(70.4153),\n",
       " tensor(40.4334),\n",
       " tensor(25.0419),\n",
       " tensor(33.2737),\n",
       " tensor(22.1836),\n",
       " tensor(40.6209)]"
      ]
     },
     "execution_count": 41,
     "metadata": {},
     "output_type": "execute_result"
    }
   ],
   "source": [
    "loss"
   ]
  },
  {
   "cell_type": "code",
   "execution_count": null,
   "metadata": {
    "id": "m1kMfijV0zc2"
   },
   "outputs": [],
   "source": []
  },
  {
   "cell_type": "code",
   "execution_count": 42,
   "metadata": {
    "id": "DbZJI3vY0zrL",
    "outputId": "12c737e5-084a-4497-ec0d-2dc6c9b2d199"
   },
   "outputs": [
    {
     "data": {
      "text/plain": [
       "'\\noutput=[]\\nground_truth=[]\\npred_series=[]\\ntruth_series=[]\\nloss=[]\\npred_total=[]\\ny_total=[]\\ntrue_values=[]\\npredicted_values=[]\\n\\nfor i in range(X_test.size(0)):\\n  curent_X_test=X_test[i,:,:,:]\\n  current_y_test=y_test[i,:,:,:]\\n  pred=model(curent_X_test,current_y_test)\\n  pred=pred[:,-horizon:,:]\\n  pred=pred.reshape(-1,1).detach().numpy()\\n  current_y_test=current_y_test.reshape(-1,1).detach().numpy()\\n\\n\\n  loss.append(loss_fun(torch.tensor(pred),torch.tensor(current_y_test)))\\n'"
      ]
     },
     "execution_count": 42,
     "metadata": {},
     "output_type": "execute_result"
    }
   ],
   "source": [
    "\"\"\"\n",
    "output=[]\n",
    "ground_truth=[]\n",
    "pred_series=[]\n",
    "truth_series=[]\n",
    "loss=[]\n",
    "pred_total=[]\n",
    "y_total=[]\n",
    "true_values=[]\n",
    "predicted_values=[]\n",
    "\n",
    "for i in range(X_test.size(0)):\n",
    "  curent_X_test=X_test[i,:,:,:]\n",
    "  current_y_test=y_test[i,:,:,:]\n",
    "  pred=model(curent_X_test,current_y_test)\n",
    "  pred=pred[:,-horizon:,:]\n",
    "  pred=pred.reshape(-1,1).detach().numpy()\n",
    "  current_y_test=current_y_test.reshape(-1,1).detach().numpy()\n",
    "\n",
    "\n",
    "  loss.append(loss_fun(torch.tensor(pred),torch.tensor(current_y_test)))\n",
    "\"\"\""
   ]
  }
 ],
 "metadata": {
  "colab": {
   "provenance": []
  },
  "kernelspec": {
   "display_name": "Python 3 (ipykernel)",
   "language": "python",
   "name": "python3"
  },
  "language_info": {
   "codemirror_mode": {
    "name": "ipython",
    "version": 3
   },
   "file_extension": ".py",
   "mimetype": "text/x-python",
   "name": "python",
   "nbconvert_exporter": "python",
   "pygments_lexer": "ipython3",
   "version": "3.10.4"
  }
 },
 "nbformat": 4,
 "nbformat_minor": 1
}
