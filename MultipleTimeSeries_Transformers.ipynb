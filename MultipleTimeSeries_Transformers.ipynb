{
 "cells": [
  {
   "cell_type": "code",
   "execution_count": 44,
   "metadata": {
    "id": "1fESObdFU5Xd"
   },
   "outputs": [],
   "source": [
    "import torch\n",
    "from torch import nn\n",
    "import pandas as pd\n",
    "import matplotlib.pyplot as plt\n",
    "import numpy as np\n",
    "import math\n",
    "import torch.nn.functional as F\n",
    "from torch.utils.data import Dataset, DataLoader\n",
    "from sklearn.preprocessing import MinMaxScaler\n",
    "from math import sqrt\n",
    "from tqdm import tqdm\n",
    "import statistics"
   ]
  },
  {
   "cell_type": "code",
   "execution_count": 2,
   "metadata": {
    "id": "UM3AxNE9VHvX"
   },
   "outputs": [],
   "source": [
    "df=pd.read_csv(\"D:\\Transformer_thesis\\Dataset\\V_228.csv\",header=None)"
   ]
  },
  {
   "cell_type": "code",
   "execution_count": 3,
   "metadata": {
    "colab": {
     "base_uri": "https://localhost:8080/"
    },
    "id": "RtSHGDixElx2",
    "outputId": "efa62bf7-6fe7-4360-dbd9-1942920ea94e"
   },
   "outputs": [],
   "source": [
    "#!cat /proc/meminfo"
   ]
  },
  {
   "cell_type": "code",
   "execution_count": 4,
   "metadata": {
    "id": "tX-Y_xXkJbcy"
   },
   "outputs": [],
   "source": [
    "#df=df.iloc[:,:100]"
   ]
  },
  {
   "cell_type": "code",
   "execution_count": 5,
   "metadata": {
    "colab": {
     "base_uri": "https://localhost:8080/"
    },
    "id": "0M19phoPWEmB",
    "outputId": "f1d98579-1092-4f6f-a56d-3622035f7c07"
   },
   "outputs": [
    {
     "data": {
      "text/plain": [
       "(12672, 228)"
      ]
     },
     "execution_count": 5,
     "metadata": {},
     "output_type": "execute_result"
    }
   ],
   "source": [
    "df.shape"
   ]
  },
  {
   "cell_type": "code",
   "execution_count": 6,
   "metadata": {
    "id": "HLoDEekNWKol"
   },
   "outputs": [],
   "source": [
    "#data=df.iloc[:,:5].values"
   ]
  },
  {
   "cell_type": "code",
   "execution_count": 7,
   "metadata": {
    "id": "j3gHHguLQCHw"
   },
   "outputs": [],
   "source": [
    "data=df.values"
   ]
  },
  {
   "cell_type": "code",
   "execution_count": 8,
   "metadata": {
    "colab": {
     "base_uri": "https://localhost:8080/"
    },
    "id": "Rbooeerj7iEb",
    "outputId": "63818370-6425-45c2-9a3d-2e8bcd1c7533"
   },
   "outputs": [
    {
     "data": {
      "text/plain": [
       "(12672, 228)"
      ]
     },
     "execution_count": 8,
     "metadata": {},
     "output_type": "execute_result"
    }
   ],
   "source": [
    "data.shape"
   ]
  },
  {
   "cell_type": "code",
   "execution_count": 9,
   "metadata": {
    "id": "_NCRjQI2WXSL"
   },
   "outputs": [],
   "source": [
    "def train_test_split(data):\n",
    "\n",
    "   test_size=1440\n",
    "   validation_size=1440\n",
    "   train_data=data[:-test_size - validation_size]\n",
    "\n",
    "   validation_data=data[-test_size - validation_size:-test_size]\n",
    "   test_data=data[-test_size:]\n",
    "   return train_data,validation_data,test_data"
   ]
  },
  {
   "cell_type": "code",
   "execution_count": 10,
   "metadata": {
    "id": "QAgegxvmWZmV"
   },
   "outputs": [],
   "source": [
    "def create_train_sequences(data,window_size,forecast_horizon):\n",
    "  #X=[]\n",
    "  #y=[]\n",
    "  X_shape=[(len(data)-window_size-forecast_horizon + 1),window_size]\n",
    "\n",
    "  y_shape=[(len(data)-window_size-forecast_horizon + 1),forecast_horizon]\n",
    "  X=np.zeros(X_shape)\n",
    "  y=np.zeros(y_shape)\n",
    "  for i in range(len(data)-window_size- forecast_horizon + 1):\n",
    "        _x = data[i:(i+window_size)]\n",
    "        #_y = data[i+window_size]\n",
    "        _y=data[i + window_size:i + window_size + forecast_horizon]\n",
    "        X[i,:]=_x\n",
    "        y[i,:]=_y\n",
    "\n",
    "\n",
    "  return X,y"
   ]
  },
  {
   "cell_type": "code",
   "execution_count": 11,
   "metadata": {
    "id": "VpJ6naogo_w4"
   },
   "outputs": [],
   "source": [
    "def create_test_sequences(data, window_size, forecast_horizon):\n",
    "\n",
    "    num_samples = len(data) // (window_size + forecast_horizon)\n",
    "    X_shape = (num_samples, window_size)\n",
    "    y_shape = (num_samples, forecast_horizon)\n",
    "    X = np.zeros(X_shape)\n",
    "    y = np.zeros(y_shape)\n",
    "\n",
    "    for i in range(num_samples):\n",
    "        start_index = i * (window_size + forecast_horizon)\n",
    "        end_index_x = start_index + window_size\n",
    "        end_index_y = end_index_x + forecast_horizon\n",
    "\n",
    "        _x = data[start_index:end_index_x]\n",
    "        _y = data[end_index_x:end_index_y]\n",
    "\n",
    "        X[i, :] = _x\n",
    "        y[i, :] = _y\n",
    "\n",
    "    return X, y"
   ]
  },
  {
   "cell_type": "code",
   "execution_count": 12,
   "metadata": {
    "colab": {
     "base_uri": "https://localhost:8080/",
     "height": 88
    },
    "id": "PNH0JaIM_bjS",
    "outputId": "f30d7837-6683-43bb-a9fe-e99bbb791c8a"
   },
   "outputs": [
    {
     "data": {
      "text/plain": [
       "'\\ndef create_test_sequences(data, window_size, forecast_horizon):\\n\\n    X_shape=[(len(data)-window_size- forecast_horizon + 1),window_size]\\n    y_shape=[(len(data)-window_size- forecast_horizon + 1),forecast_horizon]\\n    X=np.zeros(X_shape)\\n    y=np.zeros(y_shape)\\n    step_size = window_size + forecast_horizon\\n\\n    for i in range(0, len(data) - window_size - forecast_horizon + 1, step_size):\\n        _x = data[i:(i + window_size)]\\n        _y = data[i + window_size:i + window_size + forecast_horizon]\\n        X[i,:]=_x\\n        y[i,:]=_y\\n\\n    return X, y\\n'"
      ]
     },
     "execution_count": 12,
     "metadata": {},
     "output_type": "execute_result"
    }
   ],
   "source": [
    "\"\"\"\n",
    "def create_test_sequences(data, window_size, forecast_horizon):\n",
    "\n",
    "    X_shape=[(len(data)-window_size- forecast_horizon + 1),window_size]\n",
    "    y_shape=[(len(data)-window_size- forecast_horizon + 1),forecast_horizon]\n",
    "    X=np.zeros(X_shape)\n",
    "    y=np.zeros(y_shape)\n",
    "    step_size = window_size + forecast_horizon\n",
    "\n",
    "    for i in range(0, len(data) - window_size - forecast_horizon + 1, step_size):\n",
    "        _x = data[i:(i + window_size)]\n",
    "        _y = data[i + window_size:i + window_size + forecast_horizon]\n",
    "        X[i,:]=_x\n",
    "        y[i,:]=_y\n",
    "\n",
    "    return X, y\n",
    "\"\"\""
   ]
  },
  {
   "cell_type": "code",
   "execution_count": 13,
   "metadata": {
    "id": "jiPBuOe5Wcff"
   },
   "outputs": [],
   "source": [
    "#sc=MinMaxScaler()\n",
    "#df_scaled=sc.fit_transform(data)"
   ]
  },
  {
   "cell_type": "code",
   "execution_count": 14,
   "metadata": {
    "id": "-xj0RcSHWegX"
   },
   "outputs": [],
   "source": [
    "#df_scaled.shape"
   ]
  },
  {
   "cell_type": "code",
   "execution_count": 15,
   "metadata": {
    "id": "KTJcvInWWlYN"
   },
   "outputs": [],
   "source": [
    "sequence_length=12\n",
    "horizon=9\n",
    "batch_size=32\n",
    "input_size=1\n",
    "hidden_size=64\n",
    "output_size=1\n",
    "ff_hiddensize=64\n",
    "mask_flag=None\n",
    "attn_head=8\n",
    "start_dec_token_len=6\n",
    "test_size=1440\n",
    "validation_size=1440"
   ]
  },
  {
   "cell_type": "code",
   "execution_count": 16,
   "metadata": {
    "colab": {
     "base_uri": "https://localhost:8080/"
    },
    "id": "hsM8griF4xTg",
    "outputId": "9500fd6d-1587-4a3a-a62c-fda7b71feead"
   },
   "outputs": [
    {
     "data": {
      "text/plain": [
       "0        71.1\n",
       "1        68.1\n",
       "2        68.0\n",
       "3        68.3\n",
       "4        68.9\n",
       "         ... \n",
       "12667    70.3\n",
       "12668    69.9\n",
       "12669    68.9\n",
       "12670    69.2\n",
       "12671    68.6\n",
       "Name: 0, Length: 12672, dtype: float64"
      ]
     },
     "execution_count": 16,
     "metadata": {},
     "output_type": "execute_result"
    }
   ],
   "source": [
    "df.iloc[:,0]"
   ]
  },
  {
   "cell_type": "code",
   "execution_count": 17,
   "metadata": {
    "id": "9zbB2tpXWnlZ"
   },
   "outputs": [
    {
     "name": "stderr",
     "output_type": "stream",
     "text": [
      "<ipython-input-10-899fa6672d57>:10: FutureWarning: The behavior of `series[i:j]` with an integer-dtype index is deprecated. In a future version, this will be treated as *label-based* indexing, consistent with e.g. `series[i]` lookups. To retain the old behavior, use `series.iloc[i:j]`. To get the future behavior, use `series.loc[i:j]`.\n",
      "  _x = data[i:(i+window_size)]\n",
      "<ipython-input-10-899fa6672d57>:12: FutureWarning: The behavior of `series[i:j]` with an integer-dtype index is deprecated. In a future version, this will be treated as *label-based* indexing, consistent with e.g. `series[i]` lookups. To retain the old behavior, use `series.iloc[i:j]`. To get the future behavior, use `series.loc[i:j]`.\n",
      "  _y=data[i + window_size:i + window_size + forecast_horizon]\n",
      "<ipython-input-11-887b06378f81>:14: FutureWarning: The behavior of `series[i:j]` with an integer-dtype index is deprecated. In a future version, this will be treated as *label-based* indexing, consistent with e.g. `series[i]` lookups. To retain the old behavior, use `series.iloc[i:j]`. To get the future behavior, use `series.loc[i:j]`.\n",
      "  _x = data[start_index:end_index_x]\n",
      "<ipython-input-11-887b06378f81>:15: FutureWarning: The behavior of `series[i:j]` with an integer-dtype index is deprecated. In a future version, this will be treated as *label-based* indexing, consistent with e.g. `series[i]` lookups. To retain the old behavior, use `series.iloc[i:j]`. To get the future behavior, use `series.loc[i:j]`.\n",
      "  _y = data[end_index_x:end_index_y]\n"
     ]
    }
   ],
   "source": [
    "\n",
    "train_seq_x=np.zeros([df.shape[1], (len(df)-validation_size-test_size-sequence_length-horizon+1) , sequence_length ])\n",
    "train_seq_y=np.zeros([df.shape[1], (len(df)-validation_size-test_size-sequence_length-horizon+1) , horizon])\n",
    "valid_seq_x=np.zeros([df.shape[1], validation_size-sequence_length-horizon+1  , sequence_length ])\n",
    "valid_seq_y=np.zeros([df.shape[1], validation_size-sequence_length-horizon+1 , horizon ])\n",
    "test_seq_x=np.zeros([df.shape[1], test_size // (sequence_length + horizon), sequence_length ])\n",
    "test_seq_y=np.zeros([df.shape[1],  test_size // (sequence_length + horizon) , horizon])\n",
    "for i in range(df.shape[1]):\n",
    "  train_data,validation_data,test_data = train_test_split(df.iloc[:,i])\n",
    "  #print(train_data.shape)\n",
    "  #break\n",
    "\n",
    "  train_x,train_y=create_train_sequences(train_data,sequence_length,horizon)\n",
    "\n",
    "\n",
    "  train_seq_x[i,:,:]=train_x\n",
    "  train_seq_y[i,:,:]=train_y\n",
    "  #train_seq_x.append(train_x)\n",
    "  #train_seq_y.append(train_y)\n",
    "\n",
    "  valid_x,valid_y=create_train_sequences(validation_data,sequence_length,horizon)\n",
    "  valid_seq_x[i,:,:]=valid_x\n",
    "  valid_seq_y[i,:,:]=valid_y\n",
    "  #valid_seq_x.append(valid_x)\n",
    "  #valid_seq_y.append(valid_y)\n",
    "\n",
    "  test_x,test_y=create_test_sequences(test_data,sequence_length,horizon)\n",
    "  test_seq_x[i,:,:]=test_x\n",
    "  test_seq_y[i,:,:]=test_y\n",
    "  #test_seq_x.append(test_x)\n",
    "  #test_seq_y.append(test_y)\n"
   ]
  },
  {
   "cell_type": "code",
   "execution_count": 18,
   "metadata": {
    "id": "3uSzaKpCOXmo"
   },
   "outputs": [],
   "source": [
    "X_train=torch.tensor(train_seq_x,dtype=torch.float32)\n",
    "y_train=torch.tensor(train_seq_y,dtype=torch.float32)\n",
    "X_valid=torch.tensor(valid_seq_x,dtype=torch.float32)\n",
    "y_valid=torch.tensor(valid_seq_y,dtype=torch.float32)\n",
    "X_test=torch.tensor(test_seq_x,dtype=torch.float32)\n",
    "y_test=torch.tensor(test_seq_y,dtype=torch.float32)"
   ]
  },
  {
   "cell_type": "code",
   "execution_count": 19,
   "metadata": {
    "colab": {
     "base_uri": "https://localhost:8080/"
    },
    "id": "h5ZPoQjXCDvz",
    "outputId": "52ada406-4df2-4da9-87e5-9549fd3bec0c"
   },
   "outputs": [
    {
     "data": {
      "text/plain": [
       "torch.Size([228, 9772, 9])"
      ]
     },
     "execution_count": 19,
     "metadata": {},
     "output_type": "execute_result"
    }
   ],
   "source": [
    "y_train.shape"
   ]
  },
  {
   "cell_type": "code",
   "execution_count": 20,
   "metadata": {
    "colab": {
     "base_uri": "https://localhost:8080/",
     "height": 53
    },
    "id": "aS7NfdeAwOqZ",
    "outputId": "f4386eea-b4f4-4bfc-dcf5-6cd3b38f1442"
   },
   "outputs": [
    {
     "data": {
      "text/plain": [
       "'\\nX_test=X_test.unsqueeze(-1)\\nX_test=X_test.view(-1,X_test.size(2),X_test.size(3))\\n\\ny_test=y_test.unsqueeze(-1)\\ny_test=y_test.view(-1,y_test.size(2),y_test.size(3))\\n'"
      ]
     },
     "execution_count": 20,
     "metadata": {},
     "output_type": "execute_result"
    }
   ],
   "source": [
    "X_train=X_train.unsqueeze(-1)\n",
    "X_train=X_train.view(-1,X_train.size(2),X_train.size(3))\n",
    "\n",
    "y_train=y_train.unsqueeze(-1)\n",
    "y_train=y_train.view(-1,y_train.size(2),y_train.size(3))\n",
    "\n",
    "X_valid=X_valid.unsqueeze(-1)\n",
    "X_valid=X_valid.view(-1,X_valid.size(2),X_valid.size(3))\n",
    "\n",
    "y_valid=y_valid.unsqueeze(-1)\n",
    "y_valid=y_valid.view(-1,y_valid.size(2),y_valid.size(3))\n",
    "\n",
    "X_test=X_test.unsqueeze(-1)\n",
    "y_test=y_test.unsqueeze(-1)\n",
    "\"\"\"\n",
    "X_test=X_test.unsqueeze(-1)\n",
    "X_test=X_test.view(-1,X_test.size(2),X_test.size(3))\n",
    "\n",
    "y_test=y_test.unsqueeze(-1)\n",
    "y_test=y_test.view(-1,y_test.size(2),y_test.size(3))\n",
    "\"\"\""
   ]
  },
  {
   "cell_type": "code",
   "execution_count": 21,
   "metadata": {
    "id": "lVjZ-zrcLewd"
   },
   "outputs": [],
   "source": [
    "class TimeseriesDataset(Dataset):\n",
    "  def __init__(self,X,y):\n",
    "    self.X=X\n",
    "    self.y=y\n",
    "  def __len__(self):\n",
    "    return len(self.X)\n",
    "  def __getitem__(self,idx):\n",
    "    return self.X[idx],self.y[idx]"
   ]
  },
  {
   "cell_type": "code",
   "execution_count": 22,
   "metadata": {
    "id": "mPMbcoQ1PGrm"
   },
   "outputs": [],
   "source": [
    "train_dataset=TimeseriesDataset(X_train,y_train)\n",
    "valid_dataset=TimeseriesDataset(X_valid,y_valid)\n",
    "test_dataset=TimeseriesDataset(X_test,y_test)"
   ]
  },
  {
   "cell_type": "code",
   "execution_count": 23,
   "metadata": {
    "id": "xEsyYaYpPJWd"
   },
   "outputs": [],
   "source": [
    "train_loader=DataLoader(train_dataset,batch_size,drop_last=True)\n",
    "valid_loader=DataLoader(valid_dataset,batch_size,drop_last=True)\n",
    "test_loader=DataLoader(test_dataset,batch_size,drop_last=True)"
   ]
  },
  {
   "cell_type": "code",
   "execution_count": 24,
   "metadata": {
    "id": "1BdJIZImOjLl"
   },
   "outputs": [],
   "source": [
    "class InputEmbedding(nn.Module):\n",
    "  def __init__(self,input_size,hidden_size):\n",
    "      super().__init__()\n",
    "      self.input_size=input_size\n",
    "      self.hidden_size=hidden_size\n",
    "      self.conv1d=nn.Conv1d(in_channels=self.input_size,out_channels=self.hidden_size,padding=1,kernel_size=3,bias=False)\n",
    "  def forward(self,x):\n",
    "      embedded_inp=self.conv1d(x.permute(0,2,1))\n",
    "      return embedded_inp.transpose(1,2)\n"
   ]
  },
  {
   "cell_type": "code",
   "execution_count": 25,
   "metadata": {
    "id": "DnnOQkO7OmtX"
   },
   "outputs": [],
   "source": [
    "class PositionalEmbedding(nn.Module):\n",
    "    def __init__(self, d_model, max_len=5000):\n",
    "        super().__init__()\n",
    "        pe = torch.zeros(max_len, d_model).float()\n",
    "        pe.require_grad = False\n",
    "        position = torch.arange(0, max_len).float().unsqueeze(1)\n",
    "        div_term = (torch.arange(0, d_model, 2).float()* -(math.log(10000.0) / d_model)).exp()\n",
    "        pe[:, 0::2] = torch.sin(position * div_term)\n",
    "        pe[:, 1::2] = torch.cos(position * div_term)\n",
    "        pe = pe.unsqueeze(0)\n",
    "        self.register_buffer('pe', pe)\n",
    "    def forward(self,x):\n",
    "        return self.pe[:,:x.size(1)]"
   ]
  },
  {
   "cell_type": "code",
   "execution_count": 26,
   "metadata": {
    "id": "Vc7rG2iSOqlz"
   },
   "outputs": [],
   "source": [
    "class AttentionLayer(nn.Module):\n",
    "  def __init__(self,attn_head,hidden_size):\n",
    "    super().__init__()\n",
    "\n",
    "    self.attn_head=attn_head\n",
    "    self.hidden_size=hidden_size\n",
    "    self.dropout = nn.Dropout(0.1)\n",
    "    self.linear=nn.Linear(hidden_size,hidden_size)\n",
    "\n",
    "    self.queries=nn.Linear(hidden_size,hidden_size)\n",
    "    self.keys=nn.Linear(hidden_size,hidden_size)\n",
    "    self.values=nn.Linear(hidden_size,hidden_size)\n",
    "\n",
    "  def forward(self, queries,keys,values,attention_mask):\n",
    "    b,l,d=queries.shape\n",
    "    b,s,d=keys.shape\n",
    "\n",
    "    #Linear projection and creation of multiple heads\n",
    "    queries=self.queries(queries).view(b,l,self.attn_head,-1)\n",
    "    keys=self.keys(keys).view(b,s,self.attn_head,-1)\n",
    "    values=self.values(values).view(b,s,self.attn_head,-1)\n",
    "\n",
    "    b,l,h,d=queries.shape\n",
    "    b,s,h,d=keys.shape\n",
    "\n",
    "    #Calculate attention score\n",
    "    attention_score=torch.einsum(\"blhd,bshd->bhls\",queries,keys)\n",
    "    if attention_mask == True:\n",
    "       mask_shape = [b,1,l,l]\n",
    "       mask=torch.triu(torch.ones(mask_shape,dtype=torch.bool),diagonal=1)\n",
    "       attention_score.masked_fill_(mask,-np.inf)\n",
    "    attention_score_softmax=self.dropout(torch.softmax(attention_score/sqrt(d),dim=-1))\n",
    "    final_value=torch.einsum(\"bhls,bshd->blhd\",attention_score_softmax,values)\n",
    "\n",
    "    weighted_attn_val=self.linear(final_value.contiguous().view(b,l,-1))\n",
    "\n",
    "    return weighted_attn_val"
   ]
  },
  {
   "cell_type": "code",
   "execution_count": 27,
   "metadata": {
    "id": "9ixwqm1oOtXQ"
   },
   "outputs": [],
   "source": [
    "class Encoder(nn.Module):\n",
    "  def __init__(self,attention,hidden_size,output_size,ff_hiddensize,sequence_length):\n",
    "    super().__init__()\n",
    "    self.attention=attention\n",
    "    self.conv1=nn.Conv1d(in_channels=hidden_size,out_channels=ff_hiddensize,kernel_size=1)\n",
    "    self.conv2=nn.Conv1d(in_channels=ff_hiddensize,out_channels=hidden_size,kernel_size=1)\n",
    "    self.linear=nn.Linear(ff_hiddensize,hidden_size)\n",
    "    self.norm1=nn.LayerNorm(normalized_shape=(sequence_length,hidden_size))\n",
    "    #self.norm1=nn.LayerNorm(hidden_size)\n",
    "    self.activation=F.relu\n",
    "    self.dropout=nn.Dropout(0.1)\n",
    "  def forward(self,x):\n",
    "    #self.norm2=nn.LayerNorm(hidden_size)\n",
    "    attention_x=self.attention(x,x,x,attention_mask=False)\n",
    "    #add and normalize\n",
    "    new_x = x + self.dropout(attention_x)\n",
    "    res_x=x=self.norm1(new_x)\n",
    "    ##Feed forward NN:\n",
    "    out=self.conv1(res_x.permute(0,2,1))\n",
    "    out=self.activation(out)\n",
    "    out=self.dropout(self.conv2(out).transpose(-1, 1))\n",
    "\n",
    "    ##Add and normalize:\n",
    "    new_out=out+res_x\n",
    "    norm_out=self.norm1(new_out)\n",
    "    return norm_out"
   ]
  },
  {
   "cell_type": "code",
   "execution_count": 28,
   "metadata": {
    "id": "defFCswFOwsC"
   },
   "outputs": [],
   "source": [
    "class Decoder(nn.Module):\n",
    "  def __init__(self,attention,hidden_size,output_size,ff_hiddensize,sequence_length):\n",
    "    super().__init__()\n",
    "    self.attention=attention\n",
    "    #print(f\"decoder output size: {output_size}\")\n",
    "    self.conv1=nn.Conv1d(in_channels=hidden_size,out_channels=ff_hiddensize,kernel_size=1)\n",
    "    self.conv2=nn.Conv1d(in_channels=ff_hiddensize,out_channels=hidden_size,kernel_size=1)\n",
    "    self.linear1=nn.Linear(hidden_size,ff_hiddensize)\n",
    "    self.linear2=nn.Linear(ff_hiddensize,hidden_size)\n",
    "    self.linear3=nn.Linear(hidden_size,output_size)\n",
    "    self.dropout=nn.Dropout(0.1)\n",
    "    self.norm1=nn.LayerNorm(hidden_size)\n",
    "    self.norm2=nn.LayerNorm(hidden_size)\n",
    "    self.norm3=nn.LayerNorm(hidden_size)\n",
    "    self.activation=F.relu\n",
    "  def forward(self,dec_inp,enc_out):\n",
    "    #calculate self attention by passing dec_inp as Queries,keys and values\n",
    "    self_attn=self.attention(dec_inp,dec_inp,dec_inp,attention_mask=True)\n",
    "    #add residual connection and normalize\n",
    "    residual_add=self_attn+dec_inp\n",
    "    new_dec_x=self.norm1(residual_add)\n",
    "\n",
    "    # encoder-decoder attention. Pass key and value as encoder output and queries are output of 1st attention\n",
    "    enc_dec_atten=self.attention(new_dec_x,enc_out,enc_out,attention_mask=False)\n",
    "    ## add and normalize\n",
    "    new_x=enc_dec_atten+self_attn\n",
    "    norm_x=self.norm2(new_x)\n",
    "\n",
    "    #FFN\n",
    "    out=self.conv1(norm_x.permute(0,2,1))\n",
    "    out=self.activation(out)\n",
    "    out=self.dropout(self.conv2(out).transpose(-1, 1))\n",
    "\n",
    "    #add and normalize\n",
    "    new_x=out+norm_x\n",
    "    out=self.norm3(new_x)\n",
    "\n",
    "\n",
    "    #Linear projection\n",
    "    pred=self.linear3(out)\n",
    "\n",
    "    return pred\n"
   ]
  },
  {
   "cell_type": "code",
   "execution_count": 29,
   "metadata": {
    "id": "jnI2WldAO0ci"
   },
   "outputs": [],
   "source": [
    "class TransformerModel(nn.Module):\n",
    "  def __init__(self,input_size,hidden_size,output_size,ff_hiddensize,mask_flag,attn_head,sequence_length):\n",
    "      super().__init__()\n",
    "      self.input_size=input_size\n",
    "      self.hidden_size=hidden_size\n",
    "      self.output_size=output_size\n",
    "      self.ff_hidden_size=hidden_size\n",
    "      self.mask_flag=mask_flag\n",
    "      self.attn_head=attn_head\n",
    "      self.sequence_length=sequence_length\n",
    "      self.embedding=InputEmbedding(self.input_size,self.hidden_size)\n",
    "      self.positional_embedding=PositionalEmbedding(self.hidden_size)\n",
    "      #self.encoder=  Encoder( AttentionLayer(self.attn_head,hidden_size),self.hidden_size,self.output_size,self.ff_hidden_size,sequence_length)\n",
    "      self.encoders = nn.ModuleList([Encoder(AttentionLayer(self.attn_head, hidden_size), hidden_size, output_size, ff_hiddensize, sequence_length)\n",
    "                                        for _ in range(2)])\n",
    "      self.decoder=Decoder( AttentionLayer(self.attn_head,hidden_size),self.hidden_size,self.output_size,self.ff_hidden_size,sequence_length )\n",
    "  def forward(self,x,y):\n",
    "\n",
    "      #dec inp:\n",
    "      #input is shifted right and concatenated with 1st time step embedding set as zero\n",
    "      #decoder_input = torch.cat([torch.zeros_like(y[:, :1, :]), y[:, :-1, :]], dim=1)\n",
    "      #print(f\"x shape: {x[:, -start_dec_token_len:, :].shape}, y shape: {y[:, -horizon:, :].shape}\")\n",
    "      #print(f\"x shape: {x.shape}, y shape: {y.shape}\")\n",
    "      #decoder_input = torch.cat((x[:, -start_dec_token_len:, :], torch.zeros_like(y[:, -horizon:, :])), dim=1)\n",
    "      #decoder_input = torch.cat((x[:, :,-start_dec_token_len ,:], torch.zeros_like(y[:, :,-horizon:, :])), dim=1)\n",
    "      #print(f\"decoder_input shape: {decoder_input.shape}\")\n",
    "\n",
    "      decoder_input=torch.zeros_like(y[:, -horizon:, :])\n",
    "\n",
    "      #encoder\n",
    "      inp_embed=self.embedding(x)\n",
    "      pos_embed=self.positional_embedding(x)\n",
    "      enc_out=inp_embed + pos_embed\n",
    "\n",
    "      for encoder in self.encoders:\n",
    "\n",
    "          enc_out=encoder(enc_out)\n",
    "\n",
    "      #decoder\n",
    "      inp_embed=self.embedding(decoder_input)\n",
    "      pos_embed=self.positional_embedding(decoder_input)\n",
    "      y_embed= inp_embed + pos_embed\n",
    "      #print(f\"y passed to decoder shape: {y.shape}\")\n",
    "      out=self.decoder(y_embed,enc_out)\n",
    "      return out\n"
   ]
  },
  {
   "cell_type": "code",
   "execution_count": 30,
   "metadata": {
    "id": "-KlFfL9wO3bN"
   },
   "outputs": [],
   "source": [
    "model=TransformerModel(input_size,hidden_size,output_size,ff_hiddensize,mask_flag,attn_head,sequence_length)"
   ]
  },
  {
   "cell_type": "code",
   "execution_count": 31,
   "metadata": {
    "id": "PlgwBTAcO5NG"
   },
   "outputs": [],
   "source": [
    "loss_fun=nn.MSELoss()\n",
    "optimizer=torch.optim.Adam(model.parameters(),lr=0.0001)\n",
    "epochs=10"
   ]
  },
  {
   "cell_type": "code",
   "execution_count": 32,
   "metadata": {
    "colab": {
     "base_uri": "https://localhost:8080/",
     "height": 373
    },
    "id": "kuAyRTueO7LB",
    "outputId": "30ad38e4-32e8-4117-bb9e-6c5198c2d6fe",
    "scrolled": true
   },
   "outputs": [
    {
     "name": "stderr",
     "output_type": "stream",
     "text": [
      " 10%|████████████▊                                                                                                                   | 1/10 [1:49:02<16:21:24, 6542.75s/it]"
     ]
    },
    {
     "name": "stdout",
     "output_type": "stream",
     "text": [
      "epoch: 0 train loss:13.959929466247559 valid loss:42.39255905151367 \n"
     ]
    },
    {
     "name": "stderr",
     "output_type": "stream",
     "text": [
      "100%|██████████████████████████████████████████████████████████████████████████████████████████████████████████████████████████████████| 10/10 [9:31:04<00:00, 3426.41s/it]\n"
     ]
    }
   ],
   "source": [
    "for epoch in tqdm(range(epochs)):\n",
    "        model.train()\n",
    "        for batch_idx, (X,y) in enumerate(train_loader):\n",
    "\n",
    "            pred=model(X,y)\n",
    "            pred=pred[:,-horizon:,:]\n",
    "            optimizer.zero_grad()\n",
    "            loss=loss_fun(pred,y)\n",
    "            loss.backward()\n",
    "            optimizer.step()\n",
    "        model.eval()\n",
    "        with torch.no_grad():\n",
    "          for batch_idx, (X,y) in enumerate(valid_loader):\n",
    "              pred=model(X,y)\n",
    "              pred=pred[:,-horizon:,:]\n",
    "              valid_loss=loss_fun(pred,y)\n",
    "        if epoch%10==0:\n",
    "            print(f\"epoch: {epoch} train loss:{loss} valid loss:{valid_loss} \")"
   ]
  },
  {
   "cell_type": "code",
   "execution_count": 33,
   "metadata": {
    "colab": {
     "base_uri": "https://localhost:8080/"
    },
    "id": "qdCjLVZqbsye",
    "outputId": "c47a4f42-72fb-46f2-ec9d-3dce5a431aca"
   },
   "outputs": [],
   "source": [
    "#from google.colab import drive\n",
    "#drive.mount('/content/drive')"
   ]
  },
  {
   "cell_type": "code",
   "execution_count": 34,
   "metadata": {
    "id": "J8NvGxk0irH1"
   },
   "outputs": [],
   "source": [
    "import os\n",
    "plot_dir = 'D:\\Transformer_thesis\\Plots'\n",
    "if not os.path.exists(plot_dir):\n",
    "    os.makedirs(plot_dir)"
   ]
  },
  {
   "cell_type": "code",
   "execution_count": 35,
   "metadata": {
    "id": "tzuURam_SN5O"
   },
   "outputs": [],
   "source": [
    "output=[]\n",
    "ground_truth=[]\n",
    "pred_series=[]\n",
    "truth_series=[]\n",
    "loss=[]\n",
    "pred_total=[]\n",
    "y_total=[]\n",
    "\n",
    "\n",
    "for i in range(X_test.size(0)):\n",
    "  curent_X_test=X_test[i,:,:,:]\n",
    "  current_y_test=y_test[i,:,:,:]\n",
    "  pred=model(curent_X_test,current_y_test)\n",
    "  pred=pred[:,-horizon:,:]\n",
    "  pred=pred.reshape(-1,1).detach().numpy()\n",
    "  current_y_test=current_y_test.reshape(-1,1).detach().numpy()\n",
    "\n",
    "  loss.append(loss_fun(torch.tensor(pred),torch.tensor(current_y_test)))\n",
    "\n",
    "\n",
    "  #print(current_y_test[:300])\n",
    "\n",
    "  plt.figure(figsize=(10, 6))\n",
    "  plt.plot(current_y_test, label='Ground Truth')\n",
    "  plt.plot(pred, label='Predicted')\n",
    "  plt.title(f'Time Series {i+1}: Ground Truth vs Predicted Values')\n",
    "  plt.xlabel('Time')\n",
    "  plt.ylabel('Value')\n",
    "  plt.legend()\n",
    "  plt.grid(True)\n",
    "  #plt.show()\n",
    "  plt.savefig(os.path.join(plot_dir, f'Time_Series_{i+1}_plot.png'))\n",
    "  plt.close()\n",
    "\n"
   ]
  },
  {
   "cell_type": "code",
   "execution_count": 36,
   "metadata": {
    "id": "0eMqA3VhR8FJ"
   },
   "outputs": [
    {
     "data": {
      "text/plain": [
       "[tensor(120.9026),\n",
       " tensor(98.8687),\n",
       " tensor(41.1994),\n",
       " tensor(35.2242),\n",
       " tensor(40.0078),\n",
       " tensor(103.1763),\n",
       " tensor(135.5505),\n",
       " tensor(77.5170),\n",
       " tensor(50.9829),\n",
       " tensor(107.1659),\n",
       " tensor(76.4078),\n",
       " tensor(67.9115),\n",
       " tensor(65.3412),\n",
       " tensor(36.1754),\n",
       " tensor(55.0546),\n",
       " tensor(75.5444),\n",
       " tensor(17.9614),\n",
       " tensor(12.3237),\n",
       " tensor(48.8431),\n",
       " tensor(8.1587),\n",
       " tensor(22.0332),\n",
       " tensor(0.9275),\n",
       " tensor(10.6822),\n",
       " tensor(44.2705),\n",
       " tensor(46.7588),\n",
       " tensor(26.4221),\n",
       " tensor(10.5214),\n",
       " tensor(6.7379),\n",
       " tensor(58.8660),\n",
       " tensor(92.3481),\n",
       " tensor(138.0389),\n",
       " tensor(10.5278),\n",
       " tensor(14.0587),\n",
       " tensor(8.8909),\n",
       " tensor(74.2852),\n",
       " tensor(22.0545),\n",
       " tensor(112.9224),\n",
       " tensor(27.9066),\n",
       " tensor(25.2081),\n",
       " tensor(73.3861),\n",
       " tensor(49.8898),\n",
       " tensor(26.3116),\n",
       " tensor(6.4215),\n",
       " tensor(4.9130),\n",
       " tensor(6.5692),\n",
       " tensor(41.8941),\n",
       " tensor(14.9354),\n",
       " tensor(14.6191),\n",
       " tensor(15.9200),\n",
       " tensor(5.8869),\n",
       " tensor(21.4743),\n",
       " tensor(28.3686),\n",
       " tensor(70.6197),\n",
       " tensor(23.2179),\n",
       " tensor(0.7735),\n",
       " tensor(43.8711),\n",
       " tensor(24.6070),\n",
       " tensor(42.1906),\n",
       " tensor(95.9292),\n",
       " tensor(100.6722),\n",
       " tensor(100.7196),\n",
       " tensor(42.8546),\n",
       " tensor(8.3475),\n",
       " tensor(44.9470),\n",
       " tensor(0.7735),\n",
       " tensor(72.7287),\n",
       " tensor(9.1277),\n",
       " tensor(17.8143),\n",
       " tensor(20.4066),\n",
       " tensor(55.5858),\n",
       " tensor(10.5476),\n",
       " tensor(46.1044),\n",
       " tensor(44.4137),\n",
       " tensor(15.6432),\n",
       " tensor(21.9357),\n",
       " tensor(73.0830),\n",
       " tensor(13.3007),\n",
       " tensor(32.1856),\n",
       " tensor(25.3189),\n",
       " tensor(14.5506),\n",
       " tensor(20.8478),\n",
       " tensor(56.0000),\n",
       " tensor(140.2772),\n",
       " tensor(25.3386),\n",
       " tensor(47.9835),\n",
       " tensor(52.0748),\n",
       " tensor(7.3629),\n",
       " tensor(26.5889),\n",
       " tensor(41.9988),\n",
       " tensor(5.3360),\n",
       " tensor(24.0713),\n",
       " tensor(58.0293),\n",
       " tensor(24.6366),\n",
       " tensor(18.1427),\n",
       " tensor(37.8019),\n",
       " tensor(61.1937),\n",
       " tensor(26.8369),\n",
       " tensor(19.3333),\n",
       " tensor(15.3024),\n",
       " tensor(60.6217),\n",
       " tensor(12.9710),\n",
       " tensor(9.7837),\n",
       " tensor(49.3617),\n",
       " tensor(40.1275),\n",
       " tensor(62.7479),\n",
       " tensor(14.6766),\n",
       " tensor(104.4687),\n",
       " tensor(18.4090),\n",
       " tensor(35.5479),\n",
       " tensor(19.0892),\n",
       " tensor(0.8101),\n",
       " tensor(2.2958),\n",
       " tensor(69.3625),\n",
       " tensor(45.1629),\n",
       " tensor(77.9251),\n",
       " tensor(8.4820),\n",
       " tensor(61.8134),\n",
       " tensor(76.5499),\n",
       " tensor(71.2510),\n",
       " tensor(30.8538),\n",
       " tensor(40.5906),\n",
       " tensor(76.2089),\n",
       " tensor(73.8702),\n",
       " tensor(31.2048),\n",
       " tensor(39.5677),\n",
       " tensor(83.6193),\n",
       " tensor(111.2634),\n",
       " tensor(44.6532),\n",
       " tensor(54.0438),\n",
       " tensor(103.3637),\n",
       " tensor(10.6649),\n",
       " tensor(23.5674),\n",
       " tensor(58.1315),\n",
       " tensor(30.7652),\n",
       " tensor(18.8689),\n",
       " tensor(7.0888),\n",
       " tensor(73.0725),\n",
       " tensor(30.1382),\n",
       " tensor(20.5900),\n",
       " tensor(17.5495),\n",
       " tensor(16.2074),\n",
       " tensor(34.1446),\n",
       " tensor(13.3560),\n",
       " tensor(46.5872),\n",
       " tensor(9.5068),\n",
       " tensor(64.2560),\n",
       " tensor(9.9526),\n",
       " tensor(41.2303),\n",
       " tensor(20.3829),\n",
       " tensor(20.2605),\n",
       " tensor(41.5356),\n",
       " tensor(8.7394),\n",
       " tensor(23.8666),\n",
       " tensor(56.9184),\n",
       " tensor(41.7632),\n",
       " tensor(47.9886),\n",
       " tensor(16.1475),\n",
       " tensor(11.7390),\n",
       " tensor(22.7898),\n",
       " tensor(107.2525),\n",
       " tensor(40.6028),\n",
       " tensor(65.2686),\n",
       " tensor(43.3321),\n",
       " tensor(50.5834),\n",
       " tensor(19.6148),\n",
       " tensor(31.8780),\n",
       " tensor(16.5011),\n",
       " tensor(35.0096),\n",
       " tensor(8.8415),\n",
       " tensor(31.2175),\n",
       " tensor(36.4697),\n",
       " tensor(80.5357),\n",
       " tensor(21.5359),\n",
       " tensor(40.2904),\n",
       " tensor(56.0179),\n",
       " tensor(52.5562),\n",
       " tensor(44.6847),\n",
       " tensor(55.2139),\n",
       " tensor(49.3813),\n",
       " tensor(74.2300),\n",
       " tensor(45.9841),\n",
       " tensor(6.0334),\n",
       " tensor(45.2711),\n",
       " tensor(10.1649),\n",
       " tensor(50.6637),\n",
       " tensor(94.4868),\n",
       " tensor(23.2599),\n",
       " tensor(23.3393),\n",
       " tensor(22.8992),\n",
       " tensor(16.2139),\n",
       " tensor(102.3753),\n",
       " tensor(46.7777),\n",
       " tensor(50.7321),\n",
       " tensor(17.0616),\n",
       " tensor(34.1204),\n",
       " tensor(32.6705),\n",
       " tensor(23.6908),\n",
       " tensor(64.0120),\n",
       " tensor(77.6660),\n",
       " tensor(49.8455),\n",
       " tensor(18.5950),\n",
       " tensor(35.9150),\n",
       " tensor(54.5115),\n",
       " tensor(37.2499),\n",
       " tensor(34.7818),\n",
       " tensor(52.7984),\n",
       " tensor(47.2096),\n",
       " tensor(27.5905),\n",
       " tensor(67.5792),\n",
       " tensor(66.0097),\n",
       " tensor(10.8073),\n",
       " tensor(42.7031),\n",
       " tensor(43.7889),\n",
       " tensor(47.4602),\n",
       " tensor(43.5340),\n",
       " tensor(12.9237),\n",
       " tensor(34.4795),\n",
       " tensor(46.2999),\n",
       " tensor(12.1391),\n",
       " tensor(91.6277),\n",
       " tensor(31.8895),\n",
       " tensor(90.1279),\n",
       " tensor(78.9726),\n",
       " tensor(27.6727),\n",
       " tensor(40.1626),\n",
       " tensor(10.7251),\n",
       " tensor(23.7569),\n",
       " tensor(24.3113)]"
      ]
     },
     "execution_count": 36,
     "metadata": {},
     "output_type": "execute_result"
    }
   ],
   "source": [
    "loss  "
   ]
  },
  {
   "cell_type": "code",
   "execution_count": 48,
   "metadata": {},
   "outputs": [
    {
     "data": {
      "text/plain": [
       "tensor(41.4132)"
      ]
     },
     "execution_count": 48,
     "metadata": {},
     "output_type": "execute_result"
    }
   ],
   "source": [
    "loss_val=torch.stack(loss,dim=0)\n",
    "mean_loss=torch.mean(loss_val)\n",
    "mean_loss"
   ]
  },
  {
   "cell_type": "code",
   "execution_count": 37,
   "metadata": {
    "colab": {
     "base_uri": "https://localhost:8080/",
     "height": 542
    },
    "id": "XAshzh2wSXSQ",
    "outputId": "f55c6b01-8fc8-462f-92cb-5aa1607832a9"
   },
   "outputs": [
    {
     "data": {
      "image/png": "[encoded data removed]",
      "text/plain": [
       "<Figure size 720x432 with 1 Axes>"
      ]
     },
     "metadata": {
      "needs_background": "light"
     },
     "output_type": "display_data"
    }
   ],
   "source": [
    "plt.figure(figsize=(10, 6))\n",
    "plt.plot(loss, label=\"Loss\")\n",
    "\n",
    "\n",
    "\n",
    "plt.xlabel('Series')\n",
    "plt.ylabel('Loss')\n",
    "plt.legend()\n",
    "plt.grid(True)\n",
    "plt.show()\n"
   ]
  },
  {
   "cell_type": "code",
   "execution_count": 38,
   "metadata": {
    "id": "QE_rrOVFWXjm"
   },
   "outputs": [
    {
     "data": {
      "text/plain": [
       "'\\noutput=[]\\nground_truth=[]\\npred_series=[]\\ntruth_series=[]\\nloss=[]\\npred_total=[]\\ny_total=[]\\n\\n\\nfor i in range(X_test.size(0)):\\n  curent_X_test=X_test[i,:,:,:]\\n  current_y_test=y_test[i,:,:,:]\\n  pred=model(curent_X_test,current_y_test)\\n  pred=pred[:,-horizon:,:]\\n  pred=pred.reshape(-1,1).detach().numpy()\\n  current_y_test=current_y_test.reshape(-1,1).detach().numpy()\\n\\n  loss.append(loss_fun(torch.tensor(pred),torch.tensor(current_y_test)))\\n  \"\"\\n  plt.figure(figsize=(10, 6))\\n  plt.plot(current_y_test, label=\\'Ground Truth\\')\\n  plt.plot(pred, label=\\'Predicted\\')\\n  plt.title(f\\'Time Series {i+1}: Ground Truth vs Predicted Values\\')\\n  plt.xlabel(\\'Time\\')\\n  plt.ylabel(\\'Value\\')\\n  plt.legend()\\n  plt.grid(True)\\n'"
      ]
     },
     "execution_count": 38,
     "metadata": {},
     "output_type": "execute_result"
    }
   ],
   "source": [
    "\"\"\"\n",
    "output=[]\n",
    "ground_truth=[]\n",
    "pred_series=[]\n",
    "truth_series=[]\n",
    "loss=[]\n",
    "pred_total=[]\n",
    "y_total=[]\n",
    "\n",
    "\n",
    "for i in range(X_test.size(0)):\n",
    "  curent_X_test=X_test[i,:,:,:]\n",
    "  current_y_test=y_test[i,:,:,:]\n",
    "  pred=model(curent_X_test,current_y_test)\n",
    "  pred=pred[:,-horizon:,:]\n",
    "  pred=pred.reshape(-1,1).detach().numpy()\n",
    "  current_y_test=current_y_test.reshape(-1,1).detach().numpy()\n",
    "\n",
    "  loss.append(loss_fun(torch.tensor(pred),torch.tensor(current_y_test)))\n",
    "  \"\"\n",
    "  plt.figure(figsize=(10, 6))\n",
    "  plt.plot(current_y_test, label='Ground Truth')\n",
    "  plt.plot(pred, label='Predicted')\n",
    "  plt.title(f'Time Series {i+1}: Ground Truth vs Predicted Values')\n",
    "  plt.xlabel('Time')\n",
    "  plt.ylabel('Value')\n",
    "  plt.legend()\n",
    "  plt.grid(True)\n",
    "\"\"\""
   ]
  },
  {
   "cell_type": "code",
   "execution_count": null,
   "metadata": {
    "id": "54HD5sDJEb3W"
   },
   "outputs": [],
   "source": []
  },
  {
   "cell_type": "code",
   "execution_count": null,
   "metadata": {
    "id": "3uTFIPGoG0cl"
   },
   "outputs": [],
   "source": []
  },
  {
   "cell_type": "code",
   "execution_count": null,
   "metadata": {
    "id": "R2XE2X1EHo35"
   },
   "outputs": [],
   "source": []
  },
  {
   "cell_type": "code",
   "execution_count": null,
   "metadata": {
    "id": "C48OZuiIIVzG"
   },
   "outputs": [],
   "source": []
  },
  {
   "cell_type": "code",
   "execution_count": null,
   "metadata": {
    "id": "9GDUWGDSKLji"
   },
   "outputs": [],
   "source": []
  },
  {
   "cell_type": "code",
   "execution_count": null,
   "metadata": {
    "id": "6wnTTdtOKnMp"
   },
   "outputs": [],
   "source": []
  },
  {
   "cell_type": "code",
   "execution_count": 39,
   "metadata": {
    "id": "4KSaCeCEoTpw"
   },
   "outputs": [
    {
     "data": {
      "text/plain": [
       "[tensor(120.9026),\n",
       " tensor(98.8687),\n",
       " tensor(41.1994),\n",
       " tensor(35.2242),\n",
       " tensor(40.0078),\n",
       " tensor(103.1763),\n",
       " tensor(135.5505),\n",
       " tensor(77.5170),\n",
       " tensor(50.9829),\n",
       " tensor(107.1659),\n",
       " tensor(76.4078),\n",
       " tensor(67.9115),\n",
       " tensor(65.3412),\n",
       " tensor(36.1754),\n",
       " tensor(55.0546),\n",
       " tensor(75.5444),\n",
       " tensor(17.9614),\n",
       " tensor(12.3237),\n",
       " tensor(48.8431),\n",
       " tensor(8.1587),\n",
       " tensor(22.0332),\n",
       " tensor(0.9275),\n",
       " tensor(10.6822),\n",
       " tensor(44.2705),\n",
       " tensor(46.7588),\n",
       " tensor(26.4221),\n",
       " tensor(10.5214),\n",
       " tensor(6.7379),\n",
       " tensor(58.8660),\n",
       " tensor(92.3481),\n",
       " tensor(138.0389),\n",
       " tensor(10.5278),\n",
       " tensor(14.0587),\n",
       " tensor(8.8909),\n",
       " tensor(74.2852),\n",
       " tensor(22.0545),\n",
       " tensor(112.9224),\n",
       " tensor(27.9066),\n",
       " tensor(25.2081),\n",
       " tensor(73.3861),\n",
       " tensor(49.8898),\n",
       " tensor(26.3116),\n",
       " tensor(6.4215),\n",
       " tensor(4.9130),\n",
       " tensor(6.5692),\n",
       " tensor(41.8941),\n",
       " tensor(14.9354),\n",
       " tensor(14.6191),\n",
       " tensor(15.9200),\n",
       " tensor(5.8869),\n",
       " tensor(21.4743),\n",
       " tensor(28.3686),\n",
       " tensor(70.6197),\n",
       " tensor(23.2179),\n",
       " tensor(0.7735),\n",
       " tensor(43.8711),\n",
       " tensor(24.6070),\n",
       " tensor(42.1906),\n",
       " tensor(95.9292),\n",
       " tensor(100.6722),\n",
       " tensor(100.7196),\n",
       " tensor(42.8546),\n",
       " tensor(8.3475),\n",
       " tensor(44.9470),\n",
       " tensor(0.7735),\n",
       " tensor(72.7287),\n",
       " tensor(9.1277),\n",
       " tensor(17.8143),\n",
       " tensor(20.4066),\n",
       " tensor(55.5858),\n",
       " tensor(10.5476),\n",
       " tensor(46.1044),\n",
       " tensor(44.4137),\n",
       " tensor(15.6432),\n",
       " tensor(21.9357),\n",
       " tensor(73.0830),\n",
       " tensor(13.3007),\n",
       " tensor(32.1856),\n",
       " tensor(25.3189),\n",
       " tensor(14.5506),\n",
       " tensor(20.8478),\n",
       " tensor(56.0000),\n",
       " tensor(140.2772),\n",
       " tensor(25.3386),\n",
       " tensor(47.9835),\n",
       " tensor(52.0748),\n",
       " tensor(7.3629),\n",
       " tensor(26.5889),\n",
       " tensor(41.9988),\n",
       " tensor(5.3360),\n",
       " tensor(24.0713),\n",
       " tensor(58.0293),\n",
       " tensor(24.6366),\n",
       " tensor(18.1427),\n",
       " tensor(37.8019),\n",
       " tensor(61.1937),\n",
       " tensor(26.8369),\n",
       " tensor(19.3333),\n",
       " tensor(15.3024),\n",
       " tensor(60.6217),\n",
       " tensor(12.9710),\n",
       " tensor(9.7837),\n",
       " tensor(49.3617),\n",
       " tensor(40.1275),\n",
       " tensor(62.7479),\n",
       " tensor(14.6766),\n",
       " tensor(104.4687),\n",
       " tensor(18.4090),\n",
       " tensor(35.5479),\n",
       " tensor(19.0892),\n",
       " tensor(0.8101),\n",
       " tensor(2.2958),\n",
       " tensor(69.3625),\n",
       " tensor(45.1629),\n",
       " tensor(77.9251),\n",
       " tensor(8.4820),\n",
       " tensor(61.8134),\n",
       " tensor(76.5499),\n",
       " tensor(71.2510),\n",
       " tensor(30.8538),\n",
       " tensor(40.5906),\n",
       " tensor(76.2089),\n",
       " tensor(73.8702),\n",
       " tensor(31.2048),\n",
       " tensor(39.5677),\n",
       " tensor(83.6193),\n",
       " tensor(111.2634),\n",
       " tensor(44.6532),\n",
       " tensor(54.0438),\n",
       " tensor(103.3637),\n",
       " tensor(10.6649),\n",
       " tensor(23.5674),\n",
       " tensor(58.1315),\n",
       " tensor(30.7652),\n",
       " tensor(18.8689),\n",
       " tensor(7.0888),\n",
       " tensor(73.0725),\n",
       " tensor(30.1382),\n",
       " tensor(20.5900),\n",
       " tensor(17.5495),\n",
       " tensor(16.2074),\n",
       " tensor(34.1446),\n",
       " tensor(13.3560),\n",
       " tensor(46.5872),\n",
       " tensor(9.5068),\n",
       " tensor(64.2560),\n",
       " tensor(9.9526),\n",
       " tensor(41.2303),\n",
       " tensor(20.3829),\n",
       " tensor(20.2605),\n",
       " tensor(41.5356),\n",
       " tensor(8.7394),\n",
       " tensor(23.8666),\n",
       " tensor(56.9184),\n",
       " tensor(41.7632),\n",
       " tensor(47.9886),\n",
       " tensor(16.1475),\n",
       " tensor(11.7390),\n",
       " tensor(22.7898),\n",
       " tensor(107.2525),\n",
       " tensor(40.6028),\n",
       " tensor(65.2686),\n",
       " tensor(43.3321),\n",
       " tensor(50.5834),\n",
       " tensor(19.6148),\n",
       " tensor(31.8780),\n",
       " tensor(16.5011),\n",
       " tensor(35.0096),\n",
       " tensor(8.8415),\n",
       " tensor(31.2175),\n",
       " tensor(36.4697),\n",
       " tensor(80.5357),\n",
       " tensor(21.5359),\n",
       " tensor(40.2904),\n",
       " tensor(56.0179),\n",
       " tensor(52.5562),\n",
       " tensor(44.6847),\n",
       " tensor(55.2139),\n",
       " tensor(49.3813),\n",
       " tensor(74.2300),\n",
       " tensor(45.9841),\n",
       " tensor(6.0334),\n",
       " tensor(45.2711),\n",
       " tensor(10.1649),\n",
       " tensor(50.6637),\n",
       " tensor(94.4868),\n",
       " tensor(23.2599),\n",
       " tensor(23.3393),\n",
       " tensor(22.8992),\n",
       " tensor(16.2139),\n",
       " tensor(102.3753),\n",
       " tensor(46.7777),\n",
       " tensor(50.7321),\n",
       " tensor(17.0616),\n",
       " tensor(34.1204),\n",
       " tensor(32.6705),\n",
       " tensor(23.6908),\n",
       " tensor(64.0120),\n",
       " tensor(77.6660),\n",
       " tensor(49.8455),\n",
       " tensor(18.5950),\n",
       " tensor(35.9150),\n",
       " tensor(54.5115),\n",
       " tensor(37.2499),\n",
       " tensor(34.7818),\n",
       " tensor(52.7984),\n",
       " tensor(47.2096),\n",
       " tensor(27.5905),\n",
       " tensor(67.5792),\n",
       " tensor(66.0097),\n",
       " tensor(10.8073),\n",
       " tensor(42.7031),\n",
       " tensor(43.7889),\n",
       " tensor(47.4602),\n",
       " tensor(43.5340),\n",
       " tensor(12.9237),\n",
       " tensor(34.4795),\n",
       " tensor(46.2999),\n",
       " tensor(12.1391),\n",
       " tensor(91.6277),\n",
       " tensor(31.8895),\n",
       " tensor(90.1279),\n",
       " tensor(78.9726),\n",
       " tensor(27.6727),\n",
       " tensor(40.1626),\n",
       " tensor(10.7251),\n",
       " tensor(23.7569),\n",
       " tensor(24.3113)]"
      ]
     },
     "execution_count": 39,
     "metadata": {},
     "output_type": "execute_result"
    }
   ],
   "source": [
    "loss"
   ]
  },
  {
   "cell_type": "code",
   "execution_count": null,
   "metadata": {
    "id": "m1kMfijV0zc2"
   },
   "outputs": [],
   "source": []
  },
  {
   "cell_type": "code",
   "execution_count": 40,
   "metadata": {
    "id": "DbZJI3vY0zrL"
   },
   "outputs": [
    {
     "data": {
      "text/plain": [
       "'\\noutput=[]\\nground_truth=[]\\npred_series=[]\\ntruth_series=[]\\nloss=[]\\npred_total=[]\\ny_total=[]\\ntrue_values=[]\\npredicted_values=[]\\n\\nfor i in range(X_test.size(0)):\\n  curent_X_test=X_test[i,:,:,:]\\n  current_y_test=y_test[i,:,:,:]\\n  pred=model(curent_X_test,current_y_test)\\n  pred=pred[:,-horizon:,:]\\n  pred=pred.reshape(-1,1).detach().numpy()\\n  current_y_test=current_y_test.reshape(-1,1).detach().numpy()\\n\\n\\n  loss.append(loss_fun(torch.tensor(pred),torch.tensor(current_y_test)))\\n'"
      ]
     },
     "execution_count": 40,
     "metadata": {},
     "output_type": "execute_result"
    }
   ],
   "source": [
    "\"\"\"\n",
    "output=[]\n",
    "ground_truth=[]\n",
    "pred_series=[]\n",
    "truth_series=[]\n",
    "loss=[]\n",
    "pred_total=[]\n",
    "y_total=[]\n",
    "true_values=[]\n",
    "predicted_values=[]\n",
    "\n",
    "for i in range(X_test.size(0)):\n",
    "  curent_X_test=X_test[i,:,:,:]\n",
    "  current_y_test=y_test[i,:,:,:]\n",
    "  pred=model(curent_X_test,current_y_test)\n",
    "  pred=pred[:,-horizon:,:]\n",
    "  pred=pred.reshape(-1,1).detach().numpy()\n",
    "  current_y_test=current_y_test.reshape(-1,1).detach().numpy()\n",
    "\n",
    "\n",
    "  loss.append(loss_fun(torch.tensor(pred),torch.tensor(current_y_test)))\n",
    "\"\"\""
   ]
  }
 ],
 "metadata": {
  "colab": {
   "provenance": []
  },
  "kernelspec": {
   "display_name": "Python 3",
   "language": "python",
   "name": "python3"
  },
  "language_info": {
   "codemirror_mode": {
    "name": "ipython",
    "version": 3
   },
   "file_extension": ".py",
   "mimetype": "text/x-python",
   "name": "python",
   "nbconvert_exporter": "python",
   "pygments_lexer": "ipython3",
   "version": "3.8.8"
  }
 },
 "nbformat": 4,
 "nbformat_minor": 1
}
